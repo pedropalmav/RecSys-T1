{
  "cells": [
    {
      "cell_type": "code",
      "execution_count": 1,
      "metadata": {
        "colab": {
          "base_uri": "https://localhost:8080/"
        },
        "id": "s2xb85eDEYTC",
        "outputId": "701bd914-855a-4039-f8d8-852c3fcc016a"
      },
      "outputs": [
        {
          "output_type": "stream",
          "name": "stdout",
          "text": [
            "Collecting fastFM\n",
            "  Downloading fastFM-0.2.10.tar.gz (1.6 MB)\n",
            "\u001b[2K     \u001b[90m━━━━━━━━━━━━━━━━━━━━━━━━━━━━━━━━━━━━━━━━\u001b[0m \u001b[32m1.6/1.6 MB\u001b[0m \u001b[31m29.7 MB/s\u001b[0m eta \u001b[36m0:00:00\u001b[0m\n",
            "\u001b[?25h  Preparing metadata (setup.py) ... \u001b[?25l\u001b[?25hdone\n",
            "Requirement already satisfied: numpy in /usr/local/lib/python3.10/dist-packages (from fastFM) (1.26.4)\n",
            "Requirement already satisfied: scikit-learn in /usr/local/lib/python3.10/dist-packages (from fastFM) (1.3.2)\n",
            "Requirement already satisfied: scipy in /usr/local/lib/python3.10/dist-packages (from fastFM) (1.13.1)\n",
            "Requirement already satisfied: cython in /usr/local/lib/python3.10/dist-packages (from fastFM) (3.0.11)\n",
            "Requirement already satisfied: joblib>=1.1.1 in /usr/local/lib/python3.10/dist-packages (from scikit-learn->fastFM) (1.4.2)\n",
            "Requirement already satisfied: threadpoolctl>=2.0.0 in /usr/local/lib/python3.10/dist-packages (from scikit-learn->fastFM) (3.5.0)\n",
            "Building wheels for collected packages: fastFM\n",
            "  Building wheel for fastFM (setup.py) ... \u001b[?25l\u001b[?25hdone\n",
            "  Created wheel for fastFM: filename=fastFM-0.2.10-cp310-cp310-linux_x86_64.whl size=591780 sha256=15ad9c97cadcbd4d40cf65c67fcabbc7d89db2859163749701291018d436e501\n",
            "  Stored in directory: /root/.cache/pip/wheels/93/92/52/2da7997fcb7a7ce9042ff3b33836ef0c2fd47aa95382d7a113\n",
            "Successfully built fastFM\n",
            "Installing collected packages: fastFM\n",
            "Successfully installed fastFM-0.2.10\n"
          ]
        }
      ],
      "source": [
        "!pip3 install fastFM"
      ]
    },
    {
      "cell_type": "code",
      "source": [
        "!pip install psutil"
      ],
      "metadata": {
        "id": "zwgTfGj6CVcM",
        "outputId": "00bfbd54-49dd-430f-9de7-afed9f3ee603",
        "colab": {
          "base_uri": "https://localhost:8080/"
        }
      },
      "execution_count": 34,
      "outputs": [
        {
          "output_type": "stream",
          "name": "stdout",
          "text": [
            "Requirement already satisfied: psutil in /usr/local/lib/python3.10/dist-packages (5.9.5)\n"
          ]
        }
      ]
    },
    {
      "cell_type": "code",
      "execution_count": 35,
      "metadata": {
        "id": "RlHmen7LEYTD"
      },
      "outputs": [],
      "source": [
        "import os\n",
        "import numpy as np\n",
        "import pandas as pd\n",
        "import fastFM\n",
        "from fastFM.datasets import make_user_item_regression\n",
        "from fastFM import sgd\n",
        "from fastFM import als\n",
        "from sklearn.metrics import mean_squared_error\n",
        "import matplotlib.pyplot as plt\n",
        "from scipy.sparse import csc_matrix\n",
        "from fastFM import mcmc\n",
        "import functools as fct\n",
        "import itertools as itools\n",
        "import random, scipy\n",
        "import psutil\n",
        "import time"
      ]
    },
    {
      "cell_type": "code",
      "source": [
        "train_df = pd.read_csv(\"training_set.csv\")\n",
        "train_df.head()"
      ],
      "metadata": {
        "colab": {
          "base_uri": "https://localhost:8080/",
          "height": 206
        },
        "id": "UMUM3mF4Ew4q",
        "outputId": "d25a6c76-370d-4a96-fd5b-ec6dc49ec818"
      },
      "execution_count": 3,
      "outputs": [
        {
          "output_type": "execute_result",
          "data": {
            "text/plain": [
              "   userID  itemID  styleID  rating\n",
              "0     401   32780    12224     3.0\n",
              "1    7548   21688     9020     3.5\n",
              "2    7663    1521      568     4.0\n",
              "3    1357    3824     1417     3.5\n",
              "4    1361     727      263     4.5"
            ],
            "text/html": [
              "\n",
              "  <div id=\"df-573c9496-cc61-427d-8d78-0aaff3ff3f0a\" class=\"colab-df-container\">\n",
              "    <div>\n",
              "<style scoped>\n",
              "    .dataframe tbody tr th:only-of-type {\n",
              "        vertical-align: middle;\n",
              "    }\n",
              "\n",
              "    .dataframe tbody tr th {\n",
              "        vertical-align: top;\n",
              "    }\n",
              "\n",
              "    .dataframe thead th {\n",
              "        text-align: right;\n",
              "    }\n",
              "</style>\n",
              "<table border=\"1\" class=\"dataframe\">\n",
              "  <thead>\n",
              "    <tr style=\"text-align: right;\">\n",
              "      <th></th>\n",
              "      <th>userID</th>\n",
              "      <th>itemID</th>\n",
              "      <th>styleID</th>\n",
              "      <th>rating</th>\n",
              "    </tr>\n",
              "  </thead>\n",
              "  <tbody>\n",
              "    <tr>\n",
              "      <th>0</th>\n",
              "      <td>401</td>\n",
              "      <td>32780</td>\n",
              "      <td>12224</td>\n",
              "      <td>3.0</td>\n",
              "    </tr>\n",
              "    <tr>\n",
              "      <th>1</th>\n",
              "      <td>7548</td>\n",
              "      <td>21688</td>\n",
              "      <td>9020</td>\n",
              "      <td>3.5</td>\n",
              "    </tr>\n",
              "    <tr>\n",
              "      <th>2</th>\n",
              "      <td>7663</td>\n",
              "      <td>1521</td>\n",
              "      <td>568</td>\n",
              "      <td>4.0</td>\n",
              "    </tr>\n",
              "    <tr>\n",
              "      <th>3</th>\n",
              "      <td>1357</td>\n",
              "      <td>3824</td>\n",
              "      <td>1417</td>\n",
              "      <td>3.5</td>\n",
              "    </tr>\n",
              "    <tr>\n",
              "      <th>4</th>\n",
              "      <td>1361</td>\n",
              "      <td>727</td>\n",
              "      <td>263</td>\n",
              "      <td>4.5</td>\n",
              "    </tr>\n",
              "  </tbody>\n",
              "</table>\n",
              "</div>\n",
              "    <div class=\"colab-df-buttons\">\n",
              "\n",
              "  <div class=\"colab-df-container\">\n",
              "    <button class=\"colab-df-convert\" onclick=\"convertToInteractive('df-573c9496-cc61-427d-8d78-0aaff3ff3f0a')\"\n",
              "            title=\"Convert this dataframe to an interactive table.\"\n",
              "            style=\"display:none;\">\n",
              "\n",
              "  <svg xmlns=\"http://www.w3.org/2000/svg\" height=\"24px\" viewBox=\"0 -960 960 960\">\n",
              "    <path d=\"M120-120v-720h720v720H120Zm60-500h600v-160H180v160Zm220 220h160v-160H400v160Zm0 220h160v-160H400v160ZM180-400h160v-160H180v160Zm440 0h160v-160H620v160ZM180-180h160v-160H180v160Zm440 0h160v-160H620v160Z\"/>\n",
              "  </svg>\n",
              "    </button>\n",
              "\n",
              "  <style>\n",
              "    .colab-df-container {\n",
              "      display:flex;\n",
              "      gap: 12px;\n",
              "    }\n",
              "\n",
              "    .colab-df-convert {\n",
              "      background-color: #E8F0FE;\n",
              "      border: none;\n",
              "      border-radius: 50%;\n",
              "      cursor: pointer;\n",
              "      display: none;\n",
              "      fill: #1967D2;\n",
              "      height: 32px;\n",
              "      padding: 0 0 0 0;\n",
              "      width: 32px;\n",
              "    }\n",
              "\n",
              "    .colab-df-convert:hover {\n",
              "      background-color: #E2EBFA;\n",
              "      box-shadow: 0px 1px 2px rgba(60, 64, 67, 0.3), 0px 1px 3px 1px rgba(60, 64, 67, 0.15);\n",
              "      fill: #174EA6;\n",
              "    }\n",
              "\n",
              "    .colab-df-buttons div {\n",
              "      margin-bottom: 4px;\n",
              "    }\n",
              "\n",
              "    [theme=dark] .colab-df-convert {\n",
              "      background-color: #3B4455;\n",
              "      fill: #D2E3FC;\n",
              "    }\n",
              "\n",
              "    [theme=dark] .colab-df-convert:hover {\n",
              "      background-color: #434B5C;\n",
              "      box-shadow: 0px 1px 3px 1px rgba(0, 0, 0, 0.15);\n",
              "      filter: drop-shadow(0px 1px 2px rgba(0, 0, 0, 0.3));\n",
              "      fill: #FFFFFF;\n",
              "    }\n",
              "  </style>\n",
              "\n",
              "    <script>\n",
              "      const buttonEl =\n",
              "        document.querySelector('#df-573c9496-cc61-427d-8d78-0aaff3ff3f0a button.colab-df-convert');\n",
              "      buttonEl.style.display =\n",
              "        google.colab.kernel.accessAllowed ? 'block' : 'none';\n",
              "\n",
              "      async function convertToInteractive(key) {\n",
              "        const element = document.querySelector('#df-573c9496-cc61-427d-8d78-0aaff3ff3f0a');\n",
              "        const dataTable =\n",
              "          await google.colab.kernel.invokeFunction('convertToInteractive',\n",
              "                                                    [key], {});\n",
              "        if (!dataTable) return;\n",
              "\n",
              "        const docLinkHtml = 'Like what you see? Visit the ' +\n",
              "          '<a target=\"_blank\" href=https://colab.research.google.com/notebooks/data_table.ipynb>data table notebook</a>'\n",
              "          + ' to learn more about interactive tables.';\n",
              "        element.innerHTML = '';\n",
              "        dataTable['output_type'] = 'display_data';\n",
              "        await google.colab.output.renderOutput(dataTable, element);\n",
              "        const docLink = document.createElement('div');\n",
              "        docLink.innerHTML = docLinkHtml;\n",
              "        element.appendChild(docLink);\n",
              "      }\n",
              "    </script>\n",
              "  </div>\n",
              "\n",
              "\n",
              "<div id=\"df-0a274a09-4b5b-4c4e-a7a0-6f8bb303fb50\">\n",
              "  <button class=\"colab-df-quickchart\" onclick=\"quickchart('df-0a274a09-4b5b-4c4e-a7a0-6f8bb303fb50')\"\n",
              "            title=\"Suggest charts\"\n",
              "            style=\"display:none;\">\n",
              "\n",
              "<svg xmlns=\"http://www.w3.org/2000/svg\" height=\"24px\"viewBox=\"0 0 24 24\"\n",
              "     width=\"24px\">\n",
              "    <g>\n",
              "        <path d=\"M19 3H5c-1.1 0-2 .9-2 2v14c0 1.1.9 2 2 2h14c1.1 0 2-.9 2-2V5c0-1.1-.9-2-2-2zM9 17H7v-7h2v7zm4 0h-2V7h2v10zm4 0h-2v-4h2v4z\"/>\n",
              "    </g>\n",
              "</svg>\n",
              "  </button>\n",
              "\n",
              "<style>\n",
              "  .colab-df-quickchart {\n",
              "      --bg-color: #E8F0FE;\n",
              "      --fill-color: #1967D2;\n",
              "      --hover-bg-color: #E2EBFA;\n",
              "      --hover-fill-color: #174EA6;\n",
              "      --disabled-fill-color: #AAA;\n",
              "      --disabled-bg-color: #DDD;\n",
              "  }\n",
              "\n",
              "  [theme=dark] .colab-df-quickchart {\n",
              "      --bg-color: #3B4455;\n",
              "      --fill-color: #D2E3FC;\n",
              "      --hover-bg-color: #434B5C;\n",
              "      --hover-fill-color: #FFFFFF;\n",
              "      --disabled-bg-color: #3B4455;\n",
              "      --disabled-fill-color: #666;\n",
              "  }\n",
              "\n",
              "  .colab-df-quickchart {\n",
              "    background-color: var(--bg-color);\n",
              "    border: none;\n",
              "    border-radius: 50%;\n",
              "    cursor: pointer;\n",
              "    display: none;\n",
              "    fill: var(--fill-color);\n",
              "    height: 32px;\n",
              "    padding: 0;\n",
              "    width: 32px;\n",
              "  }\n",
              "\n",
              "  .colab-df-quickchart:hover {\n",
              "    background-color: var(--hover-bg-color);\n",
              "    box-shadow: 0 1px 2px rgba(60, 64, 67, 0.3), 0 1px 3px 1px rgba(60, 64, 67, 0.15);\n",
              "    fill: var(--button-hover-fill-color);\n",
              "  }\n",
              "\n",
              "  .colab-df-quickchart-complete:disabled,\n",
              "  .colab-df-quickchart-complete:disabled:hover {\n",
              "    background-color: var(--disabled-bg-color);\n",
              "    fill: var(--disabled-fill-color);\n",
              "    box-shadow: none;\n",
              "  }\n",
              "\n",
              "  .colab-df-spinner {\n",
              "    border: 2px solid var(--fill-color);\n",
              "    border-color: transparent;\n",
              "    border-bottom-color: var(--fill-color);\n",
              "    animation:\n",
              "      spin 1s steps(1) infinite;\n",
              "  }\n",
              "\n",
              "  @keyframes spin {\n",
              "    0% {\n",
              "      border-color: transparent;\n",
              "      border-bottom-color: var(--fill-color);\n",
              "      border-left-color: var(--fill-color);\n",
              "    }\n",
              "    20% {\n",
              "      border-color: transparent;\n",
              "      border-left-color: var(--fill-color);\n",
              "      border-top-color: var(--fill-color);\n",
              "    }\n",
              "    30% {\n",
              "      border-color: transparent;\n",
              "      border-left-color: var(--fill-color);\n",
              "      border-top-color: var(--fill-color);\n",
              "      border-right-color: var(--fill-color);\n",
              "    }\n",
              "    40% {\n",
              "      border-color: transparent;\n",
              "      border-right-color: var(--fill-color);\n",
              "      border-top-color: var(--fill-color);\n",
              "    }\n",
              "    60% {\n",
              "      border-color: transparent;\n",
              "      border-right-color: var(--fill-color);\n",
              "    }\n",
              "    80% {\n",
              "      border-color: transparent;\n",
              "      border-right-color: var(--fill-color);\n",
              "      border-bottom-color: var(--fill-color);\n",
              "    }\n",
              "    90% {\n",
              "      border-color: transparent;\n",
              "      border-bottom-color: var(--fill-color);\n",
              "    }\n",
              "  }\n",
              "</style>\n",
              "\n",
              "  <script>\n",
              "    async function quickchart(key) {\n",
              "      const quickchartButtonEl =\n",
              "        document.querySelector('#' + key + ' button');\n",
              "      quickchartButtonEl.disabled = true;  // To prevent multiple clicks.\n",
              "      quickchartButtonEl.classList.add('colab-df-spinner');\n",
              "      try {\n",
              "        const charts = await google.colab.kernel.invokeFunction(\n",
              "            'suggestCharts', [key], {});\n",
              "      } catch (error) {\n",
              "        console.error('Error during call to suggestCharts:', error);\n",
              "      }\n",
              "      quickchartButtonEl.classList.remove('colab-df-spinner');\n",
              "      quickchartButtonEl.classList.add('colab-df-quickchart-complete');\n",
              "    }\n",
              "    (() => {\n",
              "      let quickchartButtonEl =\n",
              "        document.querySelector('#df-0a274a09-4b5b-4c4e-a7a0-6f8bb303fb50 button');\n",
              "      quickchartButtonEl.style.display =\n",
              "        google.colab.kernel.accessAllowed ? 'block' : 'none';\n",
              "    })();\n",
              "  </script>\n",
              "</div>\n",
              "\n",
              "    </div>\n",
              "  </div>\n"
            ],
            "application/vnd.google.colaboratory.intrinsic+json": {
              "type": "dataframe",
              "variable_name": "train_df",
              "summary": "{\n  \"name\": \"train_df\",\n  \"rows\": 35534,\n  \"fields\": [\n    {\n      \"column\": \"userID\",\n      \"properties\": {\n        \"dtype\": \"number\",\n        \"std\": 2400,\n        \"min\": 1,\n        \"max\": 8320,\n        \"num_unique_values\": 8320,\n        \"samples\": [\n          973,\n          4631,\n          5010\n        ],\n        \"semantic_type\": \"\",\n        \"description\": \"\"\n      }\n    },\n    {\n      \"column\": \"itemID\",\n      \"properties\": {\n        \"dtype\": \"number\",\n        \"std\": 18522,\n        \"min\": 175,\n        \"max\": 77207,\n        \"num_unique_values\": 1692,\n        \"samples\": [\n          14014,\n          42904,\n          60122\n        ],\n        \"semantic_type\": \"\",\n        \"description\": \"\"\n      }\n    },\n    {\n      \"column\": \"styleID\",\n      \"properties\": {\n        \"dtype\": \"number\",\n        \"std\": 5012,\n        \"min\": 1,\n        \"max\": 27797,\n        \"num_unique_values\": 202,\n        \"samples\": [\n          1463,\n          395,\n          2446\n        ],\n        \"semantic_type\": \"\",\n        \"description\": \"\"\n      }\n    },\n    {\n      \"column\": \"rating\",\n      \"properties\": {\n        \"dtype\": \"number\",\n        \"std\": 0.714725781279515,\n        \"min\": 0.0,\n        \"max\": 5.0,\n        \"num_unique_values\": 10,\n        \"samples\": [\n          1.5,\n          3.5,\n          5.0\n        ],\n        \"semantic_type\": \"\",\n        \"description\": \"\"\n      }\n    }\n  ]\n}"
            }
          },
          "metadata": {},
          "execution_count": 3
        }
      ]
    },
    {
      "cell_type": "code",
      "source": [
        "validation_df = pd.read_csv(\"validation_set.csv\")\n",
        "validation_df.head()\n",
        "\n",
        "user_items_test = {}\n",
        "\n",
        "for row in validation_df.itertuples():\n",
        "    if row[1] not in user_items_test:\n",
        "        user_items_test[row[1]] = []\n",
        "\n",
        "    user_items_test[row[1]].append(row[2])"
      ],
      "metadata": {
        "id": "yEj12NeOkqcP"
      },
      "execution_count": 4,
      "outputs": []
    },
    {
      "cell_type": "code",
      "source": [
        "items_styles = pd.read_csv(\"items_styles.csv\")\n",
        "items_styles.head()"
      ],
      "metadata": {
        "colab": {
          "base_uri": "https://localhost:8080/",
          "height": 206
        },
        "id": "cIXnloKW_OAO",
        "outputId": "5e4f65d6-4ba3-43b5-e475-bd7d570d05ad"
      },
      "execution_count": 5,
      "outputs": [
        {
          "output_type": "execute_result",
          "data": {
            "text/plain": [
              "   itemID  styleID\n",
              "0   11757     1199\n",
              "1    5441     1199\n",
              "2   19960     1199\n",
              "3   55900     1199\n",
              "4   57110    14879"
            ],
            "text/html": [
              "\n",
              "  <div id=\"df-1b02610d-73ad-4b95-8b09-38b3594fcb02\" class=\"colab-df-container\">\n",
              "    <div>\n",
              "<style scoped>\n",
              "    .dataframe tbody tr th:only-of-type {\n",
              "        vertical-align: middle;\n",
              "    }\n",
              "\n",
              "    .dataframe tbody tr th {\n",
              "        vertical-align: top;\n",
              "    }\n",
              "\n",
              "    .dataframe thead th {\n",
              "        text-align: right;\n",
              "    }\n",
              "</style>\n",
              "<table border=\"1\" class=\"dataframe\">\n",
              "  <thead>\n",
              "    <tr style=\"text-align: right;\">\n",
              "      <th></th>\n",
              "      <th>itemID</th>\n",
              "      <th>styleID</th>\n",
              "    </tr>\n",
              "  </thead>\n",
              "  <tbody>\n",
              "    <tr>\n",
              "      <th>0</th>\n",
              "      <td>11757</td>\n",
              "      <td>1199</td>\n",
              "    </tr>\n",
              "    <tr>\n",
              "      <th>1</th>\n",
              "      <td>5441</td>\n",
              "      <td>1199</td>\n",
              "    </tr>\n",
              "    <tr>\n",
              "      <th>2</th>\n",
              "      <td>19960</td>\n",
              "      <td>1199</td>\n",
              "    </tr>\n",
              "    <tr>\n",
              "      <th>3</th>\n",
              "      <td>55900</td>\n",
              "      <td>1199</td>\n",
              "    </tr>\n",
              "    <tr>\n",
              "      <th>4</th>\n",
              "      <td>57110</td>\n",
              "      <td>14879</td>\n",
              "    </tr>\n",
              "  </tbody>\n",
              "</table>\n",
              "</div>\n",
              "    <div class=\"colab-df-buttons\">\n",
              "\n",
              "  <div class=\"colab-df-container\">\n",
              "    <button class=\"colab-df-convert\" onclick=\"convertToInteractive('df-1b02610d-73ad-4b95-8b09-38b3594fcb02')\"\n",
              "            title=\"Convert this dataframe to an interactive table.\"\n",
              "            style=\"display:none;\">\n",
              "\n",
              "  <svg xmlns=\"http://www.w3.org/2000/svg\" height=\"24px\" viewBox=\"0 -960 960 960\">\n",
              "    <path d=\"M120-120v-720h720v720H120Zm60-500h600v-160H180v160Zm220 220h160v-160H400v160Zm0 220h160v-160H400v160ZM180-400h160v-160H180v160Zm440 0h160v-160H620v160ZM180-180h160v-160H180v160Zm440 0h160v-160H620v160Z\"/>\n",
              "  </svg>\n",
              "    </button>\n",
              "\n",
              "  <style>\n",
              "    .colab-df-container {\n",
              "      display:flex;\n",
              "      gap: 12px;\n",
              "    }\n",
              "\n",
              "    .colab-df-convert {\n",
              "      background-color: #E8F0FE;\n",
              "      border: none;\n",
              "      border-radius: 50%;\n",
              "      cursor: pointer;\n",
              "      display: none;\n",
              "      fill: #1967D2;\n",
              "      height: 32px;\n",
              "      padding: 0 0 0 0;\n",
              "      width: 32px;\n",
              "    }\n",
              "\n",
              "    .colab-df-convert:hover {\n",
              "      background-color: #E2EBFA;\n",
              "      box-shadow: 0px 1px 2px rgba(60, 64, 67, 0.3), 0px 1px 3px 1px rgba(60, 64, 67, 0.15);\n",
              "      fill: #174EA6;\n",
              "    }\n",
              "\n",
              "    .colab-df-buttons div {\n",
              "      margin-bottom: 4px;\n",
              "    }\n",
              "\n",
              "    [theme=dark] .colab-df-convert {\n",
              "      background-color: #3B4455;\n",
              "      fill: #D2E3FC;\n",
              "    }\n",
              "\n",
              "    [theme=dark] .colab-df-convert:hover {\n",
              "      background-color: #434B5C;\n",
              "      box-shadow: 0px 1px 3px 1px rgba(0, 0, 0, 0.15);\n",
              "      filter: drop-shadow(0px 1px 2px rgba(0, 0, 0, 0.3));\n",
              "      fill: #FFFFFF;\n",
              "    }\n",
              "  </style>\n",
              "\n",
              "    <script>\n",
              "      const buttonEl =\n",
              "        document.querySelector('#df-1b02610d-73ad-4b95-8b09-38b3594fcb02 button.colab-df-convert');\n",
              "      buttonEl.style.display =\n",
              "        google.colab.kernel.accessAllowed ? 'block' : 'none';\n",
              "\n",
              "      async function convertToInteractive(key) {\n",
              "        const element = document.querySelector('#df-1b02610d-73ad-4b95-8b09-38b3594fcb02');\n",
              "        const dataTable =\n",
              "          await google.colab.kernel.invokeFunction('convertToInteractive',\n",
              "                                                    [key], {});\n",
              "        if (!dataTable) return;\n",
              "\n",
              "        const docLinkHtml = 'Like what you see? Visit the ' +\n",
              "          '<a target=\"_blank\" href=https://colab.research.google.com/notebooks/data_table.ipynb>data table notebook</a>'\n",
              "          + ' to learn more about interactive tables.';\n",
              "        element.innerHTML = '';\n",
              "        dataTable['output_type'] = 'display_data';\n",
              "        await google.colab.output.renderOutput(dataTable, element);\n",
              "        const docLink = document.createElement('div');\n",
              "        docLink.innerHTML = docLinkHtml;\n",
              "        element.appendChild(docLink);\n",
              "      }\n",
              "    </script>\n",
              "  </div>\n",
              "\n",
              "\n",
              "<div id=\"df-aa4581e5-3e45-4e76-b049-398056cd8993\">\n",
              "  <button class=\"colab-df-quickchart\" onclick=\"quickchart('df-aa4581e5-3e45-4e76-b049-398056cd8993')\"\n",
              "            title=\"Suggest charts\"\n",
              "            style=\"display:none;\">\n",
              "\n",
              "<svg xmlns=\"http://www.w3.org/2000/svg\" height=\"24px\"viewBox=\"0 0 24 24\"\n",
              "     width=\"24px\">\n",
              "    <g>\n",
              "        <path d=\"M19 3H5c-1.1 0-2 .9-2 2v14c0 1.1.9 2 2 2h14c1.1 0 2-.9 2-2V5c0-1.1-.9-2-2-2zM9 17H7v-7h2v7zm4 0h-2V7h2v10zm4 0h-2v-4h2v4z\"/>\n",
              "    </g>\n",
              "</svg>\n",
              "  </button>\n",
              "\n",
              "<style>\n",
              "  .colab-df-quickchart {\n",
              "      --bg-color: #E8F0FE;\n",
              "      --fill-color: #1967D2;\n",
              "      --hover-bg-color: #E2EBFA;\n",
              "      --hover-fill-color: #174EA6;\n",
              "      --disabled-fill-color: #AAA;\n",
              "      --disabled-bg-color: #DDD;\n",
              "  }\n",
              "\n",
              "  [theme=dark] .colab-df-quickchart {\n",
              "      --bg-color: #3B4455;\n",
              "      --fill-color: #D2E3FC;\n",
              "      --hover-bg-color: #434B5C;\n",
              "      --hover-fill-color: #FFFFFF;\n",
              "      --disabled-bg-color: #3B4455;\n",
              "      --disabled-fill-color: #666;\n",
              "  }\n",
              "\n",
              "  .colab-df-quickchart {\n",
              "    background-color: var(--bg-color);\n",
              "    border: none;\n",
              "    border-radius: 50%;\n",
              "    cursor: pointer;\n",
              "    display: none;\n",
              "    fill: var(--fill-color);\n",
              "    height: 32px;\n",
              "    padding: 0;\n",
              "    width: 32px;\n",
              "  }\n",
              "\n",
              "  .colab-df-quickchart:hover {\n",
              "    background-color: var(--hover-bg-color);\n",
              "    box-shadow: 0 1px 2px rgba(60, 64, 67, 0.3), 0 1px 3px 1px rgba(60, 64, 67, 0.15);\n",
              "    fill: var(--button-hover-fill-color);\n",
              "  }\n",
              "\n",
              "  .colab-df-quickchart-complete:disabled,\n",
              "  .colab-df-quickchart-complete:disabled:hover {\n",
              "    background-color: var(--disabled-bg-color);\n",
              "    fill: var(--disabled-fill-color);\n",
              "    box-shadow: none;\n",
              "  }\n",
              "\n",
              "  .colab-df-spinner {\n",
              "    border: 2px solid var(--fill-color);\n",
              "    border-color: transparent;\n",
              "    border-bottom-color: var(--fill-color);\n",
              "    animation:\n",
              "      spin 1s steps(1) infinite;\n",
              "  }\n",
              "\n",
              "  @keyframes spin {\n",
              "    0% {\n",
              "      border-color: transparent;\n",
              "      border-bottom-color: var(--fill-color);\n",
              "      border-left-color: var(--fill-color);\n",
              "    }\n",
              "    20% {\n",
              "      border-color: transparent;\n",
              "      border-left-color: var(--fill-color);\n",
              "      border-top-color: var(--fill-color);\n",
              "    }\n",
              "    30% {\n",
              "      border-color: transparent;\n",
              "      border-left-color: var(--fill-color);\n",
              "      border-top-color: var(--fill-color);\n",
              "      border-right-color: var(--fill-color);\n",
              "    }\n",
              "    40% {\n",
              "      border-color: transparent;\n",
              "      border-right-color: var(--fill-color);\n",
              "      border-top-color: var(--fill-color);\n",
              "    }\n",
              "    60% {\n",
              "      border-color: transparent;\n",
              "      border-right-color: var(--fill-color);\n",
              "    }\n",
              "    80% {\n",
              "      border-color: transparent;\n",
              "      border-right-color: var(--fill-color);\n",
              "      border-bottom-color: var(--fill-color);\n",
              "    }\n",
              "    90% {\n",
              "      border-color: transparent;\n",
              "      border-bottom-color: var(--fill-color);\n",
              "    }\n",
              "  }\n",
              "</style>\n",
              "\n",
              "  <script>\n",
              "    async function quickchart(key) {\n",
              "      const quickchartButtonEl =\n",
              "        document.querySelector('#' + key + ' button');\n",
              "      quickchartButtonEl.disabled = true;  // To prevent multiple clicks.\n",
              "      quickchartButtonEl.classList.add('colab-df-spinner');\n",
              "      try {\n",
              "        const charts = await google.colab.kernel.invokeFunction(\n",
              "            'suggestCharts', [key], {});\n",
              "      } catch (error) {\n",
              "        console.error('Error during call to suggestCharts:', error);\n",
              "      }\n",
              "      quickchartButtonEl.classList.remove('colab-df-spinner');\n",
              "      quickchartButtonEl.classList.add('colab-df-quickchart-complete');\n",
              "    }\n",
              "    (() => {\n",
              "      let quickchartButtonEl =\n",
              "        document.querySelector('#df-aa4581e5-3e45-4e76-b049-398056cd8993 button');\n",
              "      quickchartButtonEl.style.display =\n",
              "        google.colab.kernel.accessAllowed ? 'block' : 'none';\n",
              "    })();\n",
              "  </script>\n",
              "</div>\n",
              "\n",
              "    </div>\n",
              "  </div>\n"
            ],
            "application/vnd.google.colaboratory.intrinsic+json": {
              "type": "dataframe",
              "variable_name": "items_styles",
              "summary": "{\n  \"name\": \"items_styles\",\n  \"rows\": 1836,\n  \"fields\": [\n    {\n      \"column\": \"itemID\",\n      \"properties\": {\n        \"dtype\": \"number\",\n        \"std\": 22286,\n        \"min\": 175,\n        \"max\": 77207,\n        \"num_unique_values\": 1836,\n        \"samples\": [\n          638,\n          15292,\n          61937\n        ],\n        \"semantic_type\": \"\",\n        \"description\": \"\"\n      }\n    },\n    {\n      \"column\": \"styleID\",\n      \"properties\": {\n        \"dtype\": \"number\",\n        \"std\": 7971,\n        \"min\": 1,\n        \"max\": 27797,\n        \"num_unique_values\": 210,\n        \"samples\": [\n          60,\n          21590,\n          1127\n        ],\n        \"semantic_type\": \"\",\n        \"description\": \"\"\n      }\n    }\n  ]\n}"
            }
          },
          "metadata": {},
          "execution_count": 5
        }
      ]
    },
    {
      "cell_type": "markdown",
      "source": [
        "## Definición de métricas"
      ],
      "metadata": {
        "id": "YA8r11T-vTEM"
      }
    },
    {
      "cell_type": "code",
      "source": [
        "# Definicion de métricas (No editar)\n",
        "# Inspirado parcialmente en https://gist.github.com/bwhite/3726239\n",
        "\n",
        "def precision_at_k(r, k):\n",
        "    assert 1 <= k <= r.size\n",
        "    return (np.asarray(r)[:k] != 0).mean()\n",
        "\n",
        "def recall_at_k(r, k, m):\n",
        "    return (np.asarray(r)[:k] != 0).sum() / m\n",
        "\n",
        "def average_precision_at_k(r, k, m):\n",
        "    r = np.asarray(r)\n",
        "    sum_precision = 0\n",
        "    for i in range(min(k, r.size)):\n",
        "        if r[i] != 0:\n",
        "            sum_precision += precision_at_k(r, i + 1)\n",
        "    return sum_precision / min(m, k)\n",
        "\n",
        "def dcg_at_k(r, k):\n",
        "    r = np.asfarray(r)[:k]\n",
        "    if r.size:\n",
        "        return np.sum(np.subtract(np.power(2, r), 1) / np.log2(np.arange(2, r.size + 2)))\n",
        "    return 0.\n",
        "\n",
        "def idcg_at_k(k):\n",
        "    return dcg_at_k(np.ones(k), k)\n",
        "\n",
        "def ndcg_at_k(r, k, max_relevant):\n",
        "    idcg = idcg_at_k(min(k, max_relevant))\n",
        "    if not idcg:\n",
        "        return 0.\n",
        "    return dcg_at_k(r, k) / idcg"
      ],
      "metadata": {
        "id": "XiJs7nZavWMr"
      },
      "execution_count": 6,
      "outputs": []
    },
    {
      "cell_type": "code",
      "source": [
        "item_counts = train_df[\"itemID\"].value_counts()\n",
        "total_interactions = len(train_df)\n",
        "items_popularity = item_counts / total_interactions\n",
        "items_popularity = items_popularity.to_dict()\n",
        "mean_popularity = np.mean(list(items_popularity.values()))\n",
        "\n",
        "def novelty_for_user(recommendations):\n",
        "    popularities = np.array([items_popularity[i] if i in items_popularity.keys() else mean_popularity for i in recommendations])\n",
        "    return np.sum(np.log(1 / popularities)) / len(recommendations)"
      ],
      "metadata": {
        "id": "Yij74JNNwJ_B"
      },
      "execution_count": 7,
      "outputs": []
    },
    {
      "cell_type": "code",
      "source": [
        "item_categories = items_styles.set_index(\"itemID\")[\"styleID\"].to_dict()\n",
        "\n",
        "def diversity_for_user(recommendations, categories=item_categories):\n",
        "    recommended_categories = [categories[item] for item in recommendations]\n",
        "    unique_categories = len(set(recommended_categories))\n",
        "\n",
        "    return unique_categories / len(recommendations)\n"
      ],
      "metadata": {
        "id": "u0l0QcYLwL2P"
      },
      "execution_count": 8,
      "outputs": []
    },
    {
      "cell_type": "markdown",
      "source": [
        "## Convertir a formato fastFM"
      ],
      "metadata": {
        "id": "gj-2oEalFHJo"
      }
    },
    {
      "cell_type": "code",
      "source": [
        "def get_single_entries_in_fm_input_format(data, itemlist):\n",
        "\n",
        "    '''Cree el formato de entrada necesario (datos, (fila, columna)) para la matriz csc para\n",
        "    las entradas individuales en los datos. Cada entrada ocuparía una fila. Esto significa que\n",
        "    daría como resultado una matriz csc con dimensión (| datos | x | lista de elementos |).\n",
        "    '''\n",
        "\n",
        "    column = len(itemlist)\n",
        "    row = len(data)\n",
        "    shape = (row, column)\n",
        "\n",
        "    row_inds = np.zeros(len(data), dtype=np.int32)\n",
        "    col_inds = np.zeros(len(data), dtype=np.int32)\n",
        "    datalist = np.zeros(len(data), dtype=np.float32)\n",
        "\n",
        "    for i in range(len(data)):\n",
        "        item = data[i]\n",
        "        val = 1\n",
        "        datalist[i] = val\n",
        "\n",
        "        # ubica su posición en la lista de elementos, arroja un error si el elemento no es un\n",
        "        # artículo posible\n",
        "        col_ind = np.where(itemlist==item)[0]\n",
        "\n",
        "        # no deben ser elementos duplicados en la lista de elementos\n",
        "        assert len(col_ind) == 1\n",
        "        col_ind = col_ind[0]\n",
        "        row_ind = i\n",
        "\n",
        "        col_inds[i] = col_ind\n",
        "        row_inds[i] = row_ind\n",
        "\n",
        "    return datalist, row_inds, col_inds, shape\n",
        "\n",
        "\n",
        "def get_multi_entries_in_fm_input_format(data, itemlist, norm_func=None):\n",
        "\n",
        "    '''Cree el formato de entrada necesario (datos, (fila, columna)) para la matriz csc para\n",
        "    las entradas múltiples en los datos. Cada conjunto de entradas múltiples ocuparía una fila.\n",
        "    Esto significa que daría como resultado una matriz csc con dimensión\n",
        "    (| conjuntos de entradas en datos | x | lista de elementos |).\n",
        "    '''\n",
        "\n",
        "    column = len(itemlist)\n",
        "\n",
        "    # número de conjuntos de entradas en los datos\n",
        "    row = len(data)\n",
        "    shape = (row, column)\n",
        "\n",
        "    # numero de datos\n",
        "    num_of_data = fct.reduce(lambda x, y: x + len(y), data, 0)\n",
        "    row_inds = np.zeros(num_of_data, dtype=np.int32)\n",
        "    col_inds = np.zeros(num_of_data, dtype=np.int32)\n",
        "    datalist = np.zeros(num_of_data, dtype=np.float32)\n",
        "    cnt = 0\n",
        "    for i in range(len(data)):\n",
        "        multi_entry = data[i]\n",
        "\n",
        "        if norm_func != None:\n",
        "            # función que recibe el tamaño del multi_entry para decidir cómo normalizarlo\n",
        "            val = norm_func(len(multi_entry))\n",
        "        else:\n",
        "            # asignación de valor binario por defecto\n",
        "            val = 1 if len(multi_entry) > 0 else 0\n",
        "\n",
        "        # para cada entrada en multi_entry, ubique su posición en la lista de elementos,\n",
        "        # arroja error si el elemento no es un elemento posible\n",
        "        # todas las entradas permanecen en la misma fila\n",
        "        row_ind = i\n",
        "        for item in multi_entry:\n",
        "            col_ind = np.where(itemlist==item)[0]\n",
        "            assert len(col_ind) == 1\n",
        "            col_ind = col_ind[0]\n",
        "\n",
        "            datalist[cnt] = val\n",
        "            col_inds[cnt] = col_ind\n",
        "            row_inds[cnt] = row_ind\n",
        "\n",
        "            # actualiza contador\n",
        "            cnt += 1\n",
        "\n",
        "    return datalist, row_inds, col_inds, shape"
      ],
      "metadata": {
        "id": "qotvxPF8FCY6"
      },
      "execution_count": 9,
      "outputs": []
    },
    {
      "cell_type": "markdown",
      "source": [
        "### Conversión de los datos"
      ],
      "metadata": {
        "id": "F9Yjb3xwFSnd"
      }
    },
    {
      "cell_type": "code",
      "source": [
        "beerlist = items_styles.sort_values('itemID')['itemID'].unique()\n",
        "userlist = train_df.sort_values('userID')['userID'].unique()\n",
        "stylelist = items_styles.sort_values('styleID')['styleID'].unique()\n",
        "\n",
        "\n",
        "# usuarios que dieron ratings\n",
        "user_data = train_df['userID'].values\n",
        "\n",
        "# items que recibieron ratings\n",
        "beer_data = train_df['itemID'].values\n",
        "\n",
        "# data de estilo de cerveza\n",
        "styles_data = train_df['styleID'].values\n",
        "\n",
        "# target vector: ratings\n",
        "rating_data = train_df['rating'].values\n",
        "\n",
        "\n",
        "# convertir a formato fastFM utilizando funciones de arriba\n",
        "user_datalist, user_row_inds, user_col_inds, user_shape = get_single_entries_in_fm_input_format(data=user_data,\n",
        "                                                                                                itemlist=userlist)\n",
        "\n",
        "beer_datalist, beer_row_inds, beer_col_inds, beer_shape = get_single_entries_in_fm_input_format(data=beer_data,\n",
        "                                                                                                   itemlist=beerlist)\n",
        "\n",
        "style_datalist, style_row_inds, style_col_inds, style_shape = get_single_entries_in_fm_input_format(data=styles_data,\n",
        "                                                                                                   itemlist=stylelist)\n",
        "\n",
        "# Concatena las dos columnas cambiando los índices de las columnas relacionadas con beer.\n",
        "# cambiar por el número de columnas en las columnas de usuario\n",
        "shift_by = len(userlist)\n",
        "beer_col_inds += shift_by\n",
        "\n",
        "# concatena los datos (agregamos item_styles)\n",
        "datalist = np.append(user_datalist, [beer_datalist, style_datalist])\n",
        "row_inds = np.append(user_row_inds, [beer_row_inds, style_row_inds])\n",
        "col_inds = np.append(user_col_inds, [beer_col_inds,style_col_inds])\n",
        "\n",
        "# asegúrese de que ambos conjuntos de características tengan el mismo número de filas\n",
        "print('User feature set shape: {}\\nItem feature set shape: {}\\nStyle feature set shape: {}'.format(user_shape, beer_shape, style_shape))\n",
        "\n",
        "assert user_shape[0] == beer_shape[0]\n",
        "shape = (user_shape[0], user_shape[1] + beer_shape[1] + style_shape[1])\n",
        "print('Dimension of FM input: {}'.format(shape))\n",
        "\n",
        "\n",
        "X_train = csc_matrix((datalist, (row_inds, col_inds)), shape=shape)\n",
        "y_train = rating_data"
      ],
      "metadata": {
        "colab": {
          "base_uri": "https://localhost:8080/"
        },
        "id": "wleRdrzLFRPt",
        "outputId": "c62aadda-e2ea-472b-dc13-c7ac099612f0"
      },
      "execution_count": 10,
      "outputs": [
        {
          "output_type": "stream",
          "name": "stdout",
          "text": [
            "User feature set shape: (35534, 8320)\n",
            "Item feature set shape: (35534, 1836)\n",
            "Style feature set shape: (35534, 210)\n",
            "Dimension of FM input: (35534, 10366)\n"
          ]
        }
      ]
    },
    {
      "cell_type": "code",
      "source": [
        "# usuarios que dieron ratings\n",
        "user_data = validation_df['userID'].values\n",
        "\n",
        "# items que recibieron ratings\n",
        "beer_data = validation_df['itemID'].values\n",
        "\n",
        "# data de estilo de cerveza\n",
        "styles_data = validation_df['styleID'].values\n",
        "\n",
        "# target vector: ratings\n",
        "rating_data = validation_df['rating'].values\n",
        "\n",
        "\n",
        "# convertir a formato fastFM utilizando funciones de arriba\n",
        "user_datalist, user_row_inds, user_col_inds, user_shape = get_single_entries_in_fm_input_format(data=user_data,\n",
        "                                                                                                itemlist=userlist)\n",
        "\n",
        "beer_datalist, beer_row_inds, beer_col_inds, beer_shape = get_single_entries_in_fm_input_format(data=beer_data,\n",
        "                                                                                                   itemlist=beerlist)\n",
        "\n",
        "style_datalist, style_row_inds, style_col_inds, style_shape = get_single_entries_in_fm_input_format(data=styles_data,\n",
        "                                                                                                   itemlist=stylelist)\n",
        "\n",
        "# Concatena las dos columnas cambiando los índices de las columnas relacionadas con beer.\n",
        "# cambiar por el número de columnas en las columnas de usuario\n",
        "shift_by = len(userlist)\n",
        "beer_col_inds += shift_by\n",
        "\n",
        "# concatena los datos (agregamos item_styles)\n",
        "datalist = np.append(user_datalist, [beer_datalist, style_datalist])\n",
        "row_inds = np.append(user_row_inds, [beer_row_inds, style_row_inds])\n",
        "col_inds = np.append(user_col_inds, [beer_col_inds,style_col_inds])\n",
        "\n",
        "# asegúrese de que ambos conjuntos de características tengan el mismo número de filas\n",
        "print('User feature set shape: {}\\nItem feature set shape: {}\\nStyle feature set shape: {}'.format(user_shape, beer_shape, style_shape))\n",
        "\n",
        "assert user_shape[0] == beer_shape[0]\n",
        "shape = (user_shape[0], user_shape[1] + beer_shape[1] + style_shape[1])\n",
        "print('Dimension of FM input: {}'.format(shape))\n",
        "\n",
        "X_validation = csc_matrix((datalist, (row_inds, col_inds)), shape=shape)\n",
        "y_validation = rating_data"
      ],
      "metadata": {
        "colab": {
          "base_uri": "https://localhost:8080/"
        },
        "outputId": "49e48cb4-d5c6-4613-8a40-6f672f16bfed",
        "id": "YuCQ6TMBknbD"
      },
      "execution_count": 11,
      "outputs": [
        {
          "output_type": "stream",
          "name": "stdout",
          "text": [
            "User feature set shape: (8845, 8320)\n",
            "Item feature set shape: (8845, 1836)\n",
            "Style feature set shape: (8845, 210)\n",
            "Dimension of FM input: (8845, 10366)\n"
          ]
        }
      ]
    },
    {
      "cell_type": "code",
      "source": [
        "fm = als.FMRegression(n_iter=1000, init_stdev=0.1, rank=10, l2_reg_w=0.1, l2_reg_V=0.5)\n",
        "fm.fit(X_train, y_train)"
      ],
      "metadata": {
        "colab": {
          "base_uri": "https://localhost:8080/",
          "height": 74
        },
        "id": "Jp-fdLdNFi2s",
        "outputId": "41c375a5-8a79-4c9a-d506-9cb8d002ec67"
      },
      "execution_count": 31,
      "outputs": [
        {
          "output_type": "execute_result",
          "data": {
            "text/plain": [
              "FMRegression(l2_reg_V=0.5, n_iter=1000, rank=10)"
            ],
            "text/html": [
              "<style>#sk-container-id-6 {color: black;}#sk-container-id-6 pre{padding: 0;}#sk-container-id-6 div.sk-toggleable {background-color: white;}#sk-container-id-6 label.sk-toggleable__label {cursor: pointer;display: block;width: 100%;margin-bottom: 0;padding: 0.3em;box-sizing: border-box;text-align: center;}#sk-container-id-6 label.sk-toggleable__label-arrow:before {content: \"▸\";float: left;margin-right: 0.25em;color: #696969;}#sk-container-id-6 label.sk-toggleable__label-arrow:hover:before {color: black;}#sk-container-id-6 div.sk-estimator:hover label.sk-toggleable__label-arrow:before {color: black;}#sk-container-id-6 div.sk-toggleable__content {max-height: 0;max-width: 0;overflow: hidden;text-align: left;background-color: #f0f8ff;}#sk-container-id-6 div.sk-toggleable__content pre {margin: 0.2em;color: black;border-radius: 0.25em;background-color: #f0f8ff;}#sk-container-id-6 input.sk-toggleable__control:checked~div.sk-toggleable__content {max-height: 200px;max-width: 100%;overflow: auto;}#sk-container-id-6 input.sk-toggleable__control:checked~label.sk-toggleable__label-arrow:before {content: \"▾\";}#sk-container-id-6 div.sk-estimator input.sk-toggleable__control:checked~label.sk-toggleable__label {background-color: #d4ebff;}#sk-container-id-6 div.sk-label input.sk-toggleable__control:checked~label.sk-toggleable__label {background-color: #d4ebff;}#sk-container-id-6 input.sk-hidden--visually {border: 0;clip: rect(1px 1px 1px 1px);clip: rect(1px, 1px, 1px, 1px);height: 1px;margin: -1px;overflow: hidden;padding: 0;position: absolute;width: 1px;}#sk-container-id-6 div.sk-estimator {font-family: monospace;background-color: #f0f8ff;border: 1px dotted black;border-radius: 0.25em;box-sizing: border-box;margin-bottom: 0.5em;}#sk-container-id-6 div.sk-estimator:hover {background-color: #d4ebff;}#sk-container-id-6 div.sk-parallel-item::after {content: \"\";width: 100%;border-bottom: 1px solid gray;flex-grow: 1;}#sk-container-id-6 div.sk-label:hover label.sk-toggleable__label {background-color: #d4ebff;}#sk-container-id-6 div.sk-serial::before {content: \"\";position: absolute;border-left: 1px solid gray;box-sizing: border-box;top: 0;bottom: 0;left: 50%;z-index: 0;}#sk-container-id-6 div.sk-serial {display: flex;flex-direction: column;align-items: center;background-color: white;padding-right: 0.2em;padding-left: 0.2em;position: relative;}#sk-container-id-6 div.sk-item {position: relative;z-index: 1;}#sk-container-id-6 div.sk-parallel {display: flex;align-items: stretch;justify-content: center;background-color: white;position: relative;}#sk-container-id-6 div.sk-item::before, #sk-container-id-6 div.sk-parallel-item::before {content: \"\";position: absolute;border-left: 1px solid gray;box-sizing: border-box;top: 0;bottom: 0;left: 50%;z-index: -1;}#sk-container-id-6 div.sk-parallel-item {display: flex;flex-direction: column;z-index: 1;position: relative;background-color: white;}#sk-container-id-6 div.sk-parallel-item:first-child::after {align-self: flex-end;width: 50%;}#sk-container-id-6 div.sk-parallel-item:last-child::after {align-self: flex-start;width: 50%;}#sk-container-id-6 div.sk-parallel-item:only-child::after {width: 0;}#sk-container-id-6 div.sk-dashed-wrapped {border: 1px dashed gray;margin: 0 0.4em 0.5em 0.4em;box-sizing: border-box;padding-bottom: 0.4em;background-color: white;}#sk-container-id-6 div.sk-label label {font-family: monospace;font-weight: bold;display: inline-block;line-height: 1.2em;}#sk-container-id-6 div.sk-label-container {text-align: center;}#sk-container-id-6 div.sk-container {/* jupyter's `normalize.less` sets `[hidden] { display: none; }` but bootstrap.min.css set `[hidden] { display: none !important; }` so we also need the `!important` here to be able to override the default hidden behavior on the sphinx rendered scikit-learn.org. See: https://github.com/scikit-learn/scikit-learn/issues/21755 */display: inline-block !important;position: relative;}#sk-container-id-6 div.sk-text-repr-fallback {display: none;}</style><div id=\"sk-container-id-6\" class=\"sk-top-container\"><div class=\"sk-text-repr-fallback\"><pre>FMRegression(l2_reg_V=0.5, n_iter=1000, rank=10)</pre><b>In a Jupyter environment, please rerun this cell to show the HTML representation or trust the notebook. <br />On GitHub, the HTML representation is unable to render, please try loading this page with nbviewer.org.</b></div><div class=\"sk-container\" hidden><div class=\"sk-item\"><div class=\"sk-estimator sk-toggleable\"><input class=\"sk-toggleable__control sk-hidden--visually\" id=\"sk-estimator-id-6\" type=\"checkbox\" checked><label for=\"sk-estimator-id-6\" class=\"sk-toggleable__label sk-toggleable__label-arrow\">FMRegression</label><div class=\"sk-toggleable__content\"><pre>FMRegression(l2_reg_V=0.5, n_iter=1000, rank=10)</pre></div></div></div></div></div>"
            ]
          },
          "metadata": {},
          "execution_count": 31
        }
      ]
    },
    {
      "cell_type": "code",
      "source": [
        "y_pred = fm.predict(X_validation)"
      ],
      "metadata": {
        "id": "SnamrYcykP0C"
      },
      "execution_count": 13,
      "outputs": []
    },
    {
      "cell_type": "code",
      "source": [
        "from sklearn.metrics import mean_squared_error\n",
        "\n",
        "def root_mean_squared_error(y_true, y_pred):\n",
        "    return np.sqrt(mean_squared_error(y_true, y_pred))\n",
        "\n",
        "rmse = root_mean_squared_error(y_validation, y_pred)\n",
        "print(f\"RMSE: {rmse}\")"
      ],
      "metadata": {
        "id": "p3kK5FCglTfy",
        "colab": {
          "base_uri": "https://localhost:8080/"
        },
        "outputId": "d075d18f-d393-4bc7-9046-fe7ed5f0e5f1"
      },
      "execution_count": 14,
      "outputs": [
        {
          "output_type": "stream",
          "name": "stdout",
          "text": [
            "RMSE: 0.8378507457519454\n"
          ]
        }
      ]
    },
    {
      "cell_type": "code",
      "source": [
        "def parse_data_for_user(user_id):\n",
        "  beer_data = items_styles[\"itemID\"].values\n",
        "  user_data = [user_id] * len(beer_data)\n",
        "  styles_data = items_styles[\"styleID\"].values\n",
        "\n",
        "  # convertir a formato fastFM utilizando funciones de arriba\n",
        "  user_datalist, user_row_inds, user_col_inds, user_shape = get_single_entries_in_fm_input_format(data=user_data,\n",
        "                                                                                                  itemlist=userlist)\n",
        "\n",
        "  beer_datalist, beer_row_inds, beer_col_inds, beer_shape = get_single_entries_in_fm_input_format(data=beer_data,\n",
        "                                                                                                    itemlist=beerlist)\n",
        "\n",
        "  style_datalist, style_row_inds, style_col_inds, style_shape = get_single_entries_in_fm_input_format(data=styles_data,\n",
        "                                                                                                    itemlist=stylelist)\n",
        "\n",
        "  # Concatena las dos columnas cambiando los índices de las columnas relacionadas con beer.\n",
        "  # cambiar por el número de columnas en las columnas de usuario\n",
        "  shift_by = len(userlist)\n",
        "  beer_col_inds += shift_by\n",
        "\n",
        "  # concatena los datos (agregamos item_styles)\n",
        "  datalist = np.append(user_datalist, [beer_datalist, style_datalist])\n",
        "  row_inds = np.append(user_row_inds, [beer_row_inds, style_row_inds])\n",
        "  col_inds = np.append(user_col_inds, [beer_col_inds,style_col_inds])\n",
        "\n",
        "  # asegúrese de que ambos conjuntos de características tengan el mismo número de filas\n",
        "\n",
        "  assert user_shape[0] == beer_shape[0]\n",
        "  shape = (user_shape[0], user_shape[1] + beer_shape[1] + style_shape[1])\n",
        "\n",
        "  X_test = csc_matrix((datalist, (row_inds, col_inds)), shape=shape)\n",
        "  return X_test"
      ],
      "metadata": {
        "id": "ZRllGVxfK0FT"
      },
      "execution_count": 15,
      "outputs": []
    },
    {
      "cell_type": "code",
      "source": [
        "def get_top_n_recommendations(model, user_id, n=10):\n",
        "    X_test = parse_data_for_user(user_id)\n",
        "    y_test = model.predict(X_test)\n",
        "    predictions = [(beer_data[i], y_test[i]) for i in range(len(y_test))]\n",
        "    predictions.sort(key=lambda x: x[1], reverse=True)\n",
        "    return [prediction[0] for prediction in predictions[:n]]"
      ],
      "metadata": {
        "id": "fuJeRfAaL7xv"
      },
      "execution_count": 16,
      "outputs": []
    },
    {
      "cell_type": "code",
      "source": [
        "ranking = get_top_n_recommendations(fm, 1040)\n",
        "print(ranking)"
      ],
      "metadata": {
        "colab": {
          "base_uri": "https://localhost:8080/"
        },
        "id": "nVFJRYh-QRgp",
        "outputId": "124b3a13-9ce1-4a6d-9abb-2dcb41e1f0f4"
      },
      "execution_count": 17,
      "outputs": [
        {
          "output_type": "stream",
          "name": "stdout",
          "text": [
            "[17538, 48911, 21822, 436, 20470, 11757, 429, 60511, 21822, 1504]\n"
          ]
        }
      ]
    },
    {
      "cell_type": "markdown",
      "source": [
        "## Análisis de sensibilidad"
      ],
      "metadata": {
        "id": "QtCTa4BwuRa5"
      }
    },
    {
      "cell_type": "code",
      "source": [
        "def evaluate_model(model, n):\n",
        "  mean_ap = 0. # o MAP\n",
        "  mean_ndcg = 0.\n",
        "  mean_recall = 0.\n",
        "  novelty = 0\n",
        "  diversity = 0\n",
        "\n",
        "\n",
        "  for u in user_items_test.keys():\n",
        "    relevant_items = user_items_test[u]\n",
        "    rec = get_top_n_recommendations(model, u, n)\n",
        "    rel_vector = np.isin(relevant_items, rec, assume_unique=True).astype(int)\n",
        "\n",
        "    mean_ap += average_precision_at_k(rel_vector, n, len(relevant_items))\n",
        "    mean_ndcg += ndcg_at_k(rel_vector, n, len(relevant_items))\n",
        "    mean_recall += recall_at_k(rel_vector, n, len(relevant_items))\n",
        "    novelty += novelty_for_user(rec)\n",
        "    diversity += diversity_for_user(rec)\n",
        "\n",
        "  mean_ap /= len(user_items_test)\n",
        "  mean_ndcg /= len(user_items_test)\n",
        "  mean_recall /= len(user_items_test)\n",
        "  novelty /= len(user_items_test)\n",
        "  diversity /= len(user_items_test)\n",
        "\n",
        "  return mean_ap, mean_ndcg, mean_recall, novelty, diversity"
      ],
      "metadata": {
        "id": "JwYfCCFixIja"
      },
      "execution_count": 18,
      "outputs": []
    },
    {
      "cell_type": "code",
      "source": [
        "iterations_values = [500, 750, 1000]\n",
        "lambda_values = [0.001, 0.01, 0.1]\n",
        "\n",
        "map_values = []\n",
        "ndcg_values = []\n",
        "\n",
        "for iteration in iterations_values:\n",
        "    map_row = []\n",
        "    ndcg_row = []\n",
        "    for lamb in lambda_values:\n",
        "      fm = als.FMRegression(n_iter=iteration, init_stdev=0.1, rank=10, l2_reg_w=lamb, l2_reg_V=0.5)\n",
        "      fm.fit(X_train, y_train)\n",
        "      mean_ap, mean_ndcg, _, _, _ = evaluate_model(fm, 10)\n",
        "      map_row.append(mean_ap)\n",
        "      ndcg_row.append(mean_ndcg)\n",
        "\n",
        "    map_values.append(map_row)\n",
        "    ndcg_values.append(ndcg_row)\n",
        "\n",
        "iter_values, lamb_values = np.meshgrid(iterations_values, lambda_values)"
      ],
      "metadata": {
        "id": "-5-o2hgRuTUC"
      },
      "execution_count": 19,
      "outputs": []
    },
    {
      "cell_type": "code",
      "source": [
        "from matplotlib import cm\n",
        "\n",
        "map_values = np.array(map_values)\n",
        "\n",
        "fig = plt.figure()\n",
        "ax = fig.add_subplot(111, projection='3d')\n",
        "\n",
        "surf = ax.plot_surface(iter_values, lamb_values, map_values.T, cmap=cm.viridis)\n",
        "\n",
        "ax.set_xlabel('Iterations')\n",
        "ax.set_ylabel('Regularization')\n",
        "ax.set_zlabel('MAP@10')\n",
        "\n",
        "fig.colorbar(surf)\n",
        "plt.show()"
      ],
      "metadata": {
        "colab": {
          "base_uri": "https://localhost:8080/",
          "height": 415
        },
        "id": "9C7hdMViBET-",
        "outputId": "e8b033eb-4d91-492d-f247-d893639d9d74"
      },
      "execution_count": 20,
      "outputs": [
        {
          "output_type": "display_data",
          "data": {
            "text/plain": [
              "<Figure size 640x480 with 2 Axes>"
            ],
            "image/png": "[encoded data removed]"
          },
          "metadata": {}
        }
      ]
    },
    {
      "cell_type": "code",
      "source": [
        "ndcg_values = np.array(ndcg_values)\n",
        "\n",
        "fig = plt.figure()\n",
        "ax = fig.add_subplot(111, projection='3d')\n",
        "\n",
        "surf = ax.plot_surface(iter_values, lamb_values, ndcg_values.T, cmap=cm.viridis)\n",
        "\n",
        "ax.set_xlabel('Iterations')\n",
        "ax.set_ylabel('Regularization')\n",
        "ax.set_zlabel('nDCG@10')\n",
        "\n",
        "fig.colorbar(surf)\n",
        "plt.show()"
      ],
      "metadata": {
        "colab": {
          "base_uri": "https://localhost:8080/",
          "height": 415
        },
        "id": "hNpYsGe_BS9O",
        "outputId": "9d8f4528-7e94-4a3c-c851-10b5b535d79e"
      },
      "execution_count": 21,
      "outputs": [
        {
          "output_type": "display_data",
          "data": {
            "text/plain": [
              "<Figure size 640x480 with 2 Axes>"
            ],
            "image/png": "[encoded data removed]"
          },
          "metadata": {}
        }
      ]
    },
    {
      "cell_type": "markdown",
      "source": [
        "## Métricas de desempeño"
      ],
      "metadata": {
        "id": "ZLZWwBLlBwHC"
      }
    },
    {
      "cell_type": "code",
      "source": [
        "fm_tuned = als.FMRegression(n_iter=1000, init_stdev=0.1, rank=10, l2_reg_w=0.1, l2_reg_V=0.5)\n",
        "fm_tuned.fit(X_train, y_train)"
      ],
      "metadata": {
        "id": "ZcDyNddnBvWH",
        "outputId": "56a1ca19-266b-4ab8-94bc-1a4e4370b050",
        "colab": {
          "base_uri": "https://localhost:8080/",
          "height": 74
        }
      },
      "execution_count": 32,
      "outputs": [
        {
          "output_type": "execute_result",
          "data": {
            "text/plain": [
              "FMRegression(l2_reg_V=0.5, n_iter=1000, rank=10)"
            ],
            "text/html": [
              "<style>#sk-container-id-7 {color: black;}#sk-container-id-7 pre{padding: 0;}#sk-container-id-7 div.sk-toggleable {background-color: white;}#sk-container-id-7 label.sk-toggleable__label {cursor: pointer;display: block;width: 100%;margin-bottom: 0;padding: 0.3em;box-sizing: border-box;text-align: center;}#sk-container-id-7 label.sk-toggleable__label-arrow:before {content: \"▸\";float: left;margin-right: 0.25em;color: #696969;}#sk-container-id-7 label.sk-toggleable__label-arrow:hover:before {color: black;}#sk-container-id-7 div.sk-estimator:hover label.sk-toggleable__label-arrow:before {color: black;}#sk-container-id-7 div.sk-toggleable__content {max-height: 0;max-width: 0;overflow: hidden;text-align: left;background-color: #f0f8ff;}#sk-container-id-7 div.sk-toggleable__content pre {margin: 0.2em;color: black;border-radius: 0.25em;background-color: #f0f8ff;}#sk-container-id-7 input.sk-toggleable__control:checked~div.sk-toggleable__content {max-height: 200px;max-width: 100%;overflow: auto;}#sk-container-id-7 input.sk-toggleable__control:checked~label.sk-toggleable__label-arrow:before {content: \"▾\";}#sk-container-id-7 div.sk-estimator input.sk-toggleable__control:checked~label.sk-toggleable__label {background-color: #d4ebff;}#sk-container-id-7 div.sk-label input.sk-toggleable__control:checked~label.sk-toggleable__label {background-color: #d4ebff;}#sk-container-id-7 input.sk-hidden--visually {border: 0;clip: rect(1px 1px 1px 1px);clip: rect(1px, 1px, 1px, 1px);height: 1px;margin: -1px;overflow: hidden;padding: 0;position: absolute;width: 1px;}#sk-container-id-7 div.sk-estimator {font-family: monospace;background-color: #f0f8ff;border: 1px dotted black;border-radius: 0.25em;box-sizing: border-box;margin-bottom: 0.5em;}#sk-container-id-7 div.sk-estimator:hover {background-color: #d4ebff;}#sk-container-id-7 div.sk-parallel-item::after {content: \"\";width: 100%;border-bottom: 1px solid gray;flex-grow: 1;}#sk-container-id-7 div.sk-label:hover label.sk-toggleable__label {background-color: #d4ebff;}#sk-container-id-7 div.sk-serial::before {content: \"\";position: absolute;border-left: 1px solid gray;box-sizing: border-box;top: 0;bottom: 0;left: 50%;z-index: 0;}#sk-container-id-7 div.sk-serial {display: flex;flex-direction: column;align-items: center;background-color: white;padding-right: 0.2em;padding-left: 0.2em;position: relative;}#sk-container-id-7 div.sk-item {position: relative;z-index: 1;}#sk-container-id-7 div.sk-parallel {display: flex;align-items: stretch;justify-content: center;background-color: white;position: relative;}#sk-container-id-7 div.sk-item::before, #sk-container-id-7 div.sk-parallel-item::before {content: \"\";position: absolute;border-left: 1px solid gray;box-sizing: border-box;top: 0;bottom: 0;left: 50%;z-index: -1;}#sk-container-id-7 div.sk-parallel-item {display: flex;flex-direction: column;z-index: 1;position: relative;background-color: white;}#sk-container-id-7 div.sk-parallel-item:first-child::after {align-self: flex-end;width: 50%;}#sk-container-id-7 div.sk-parallel-item:last-child::after {align-self: flex-start;width: 50%;}#sk-container-id-7 div.sk-parallel-item:only-child::after {width: 0;}#sk-container-id-7 div.sk-dashed-wrapped {border: 1px dashed gray;margin: 0 0.4em 0.5em 0.4em;box-sizing: border-box;padding-bottom: 0.4em;background-color: white;}#sk-container-id-7 div.sk-label label {font-family: monospace;font-weight: bold;display: inline-block;line-height: 1.2em;}#sk-container-id-7 div.sk-label-container {text-align: center;}#sk-container-id-7 div.sk-container {/* jupyter's `normalize.less` sets `[hidden] { display: none; }` but bootstrap.min.css set `[hidden] { display: none !important; }` so we also need the `!important` here to be able to override the default hidden behavior on the sphinx rendered scikit-learn.org. See: https://github.com/scikit-learn/scikit-learn/issues/21755 */display: inline-block !important;position: relative;}#sk-container-id-7 div.sk-text-repr-fallback {display: none;}</style><div id=\"sk-container-id-7\" class=\"sk-top-container\"><div class=\"sk-text-repr-fallback\"><pre>FMRegression(l2_reg_V=0.5, n_iter=1000, rank=10)</pre><b>In a Jupyter environment, please rerun this cell to show the HTML representation or trust the notebook. <br />On GitHub, the HTML representation is unable to render, please try loading this page with nbviewer.org.</b></div><div class=\"sk-container\" hidden><div class=\"sk-item\"><div class=\"sk-estimator sk-toggleable\"><input class=\"sk-toggleable__control sk-hidden--visually\" id=\"sk-estimator-id-7\" type=\"checkbox\" checked><label for=\"sk-estimator-id-7\" class=\"sk-toggleable__label sk-toggleable__label-arrow\">FMRegression</label><div class=\"sk-toggleable__content\"><pre>FMRegression(l2_reg_V=0.5, n_iter=1000, rank=10)</pre></div></div></div></div></div>"
            ]
          },
          "metadata": {},
          "execution_count": 32
        }
      ]
    },
    {
      "cell_type": "code",
      "source": [
        "map_value, ndcg, recall, novelty, diversity = evaluate_model(fm_tuned, 10)\n",
        "print(f\"MAP@10: {map_value}\")\n",
        "print(f\"nDCG@10: {ndcg}\")\n",
        "print(f\"Recall@10: {recall}\")\n",
        "print(f\"Novelty: {novelty}\")\n",
        "print(f\"Diversity: {diversity}\")"
      ],
      "metadata": {
        "id": "J9LG2OYgCBlw",
        "outputId": "be5235d0-2f9d-4467-f112-f616339b6463",
        "colab": {
          "base_uri": "https://localhost:8080/"
        }
      },
      "execution_count": 33,
      "outputs": [
        {
          "output_type": "stream",
          "name": "stdout",
          "text": [
            "MAP@10: 0.10227749289951674\n",
            "nDCG@10: 0.12314240541677889\n",
            "Recall@10: 0.1223415175231267\n",
            "Novelty: 5.804415992190955\n",
            "Diversity: 0.7248093841642286\n"
          ]
        }
      ]
    },
    {
      "cell_type": "markdown",
      "source": [
        "### Tiempo de ejecución"
      ],
      "metadata": {
        "id": "DEinnuz9C-eB"
      }
    },
    {
      "cell_type": "code",
      "source": [
        "start_time = time.time()\n",
        "fm_train = als.FMRegression(n_iter=1000, init_stdev=0.1, rank=10, l2_reg_w=0.1, l2_reg_V=0.5)\n",
        "fm_train.fit(X_train, y_train)\n",
        "end_time = time.time()\n",
        "print(f\"Tiempo de entrenamiento: {end_time - start_time} segundos\")"
      ],
      "metadata": {
        "id": "s-_5WjrNDBW5",
        "outputId": "4725ced6-c186-43d8-ba19-23a8ef3f44f2",
        "colab": {
          "base_uri": "https://localhost:8080/"
        }
      },
      "execution_count": 37,
      "outputs": [
        {
          "output_type": "stream",
          "name": "stdout",
          "text": [
            "Tiempo de entrenamiento: 18.92544937133789 segundos\n"
          ]
        }
      ]
    },
    {
      "cell_type": "markdown",
      "source": [
        "### Memoria Utilizada"
      ],
      "metadata": {
        "id": "KnMb8Q6KDC67"
      }
    },
    {
      "cell_type": "code",
      "source": [
        "mem_info_before = psutil.virtual_memory().used\n",
        "fm_train = als.FMRegression(n_iter=1000, init_stdev=0.1, rank=10, l2_reg_w=0.1, l2_reg_V=0.5)\n",
        "fm_train.fit(X_train, y_train)\n",
        "mem_info_after = psutil.virtual_memory().used\n",
        "print(f\"Memoria utilizada: {mem_info_after - mem_info_before} MB\")"
      ],
      "metadata": {
        "id": "vAGT2fzxDHeW",
        "outputId": "67c1e2da-9e9e-4619-83c3-a40fa746d711",
        "colab": {
          "base_uri": "https://localhost:8080/"
        }
      },
      "execution_count": 38,
      "outputs": [
        {
          "output_type": "stream",
          "name": "stdout",
          "text": [
            "Memoria utilizada: 4579328 MB\n"
          ]
        }
      ]
    },
    {
      "cell_type": "markdown",
      "source": [
        "### CPU Utilizada"
      ],
      "metadata": {
        "id": "oBCQvfNMDIyc"
      }
    },
    {
      "cell_type": "code",
      "source": [
        "cpu_usage_before = psutil.cpu_percent(interval=None)\n",
        "fm_train = als.FMRegression(n_iter=1000, init_stdev=0.1, rank=10, l2_reg_w=0.1, l2_reg_V=0.5)\n",
        "fm_train.fit(X_train, y_train)\n",
        "cpu_usage_after = psutil.cpu_percent(interval=None)\n",
        "print(f\"CPU utilizada: {cpu_usage_after - cpu_usage_before}%\")"
      ],
      "metadata": {
        "id": "YaZEsS8zDMol",
        "outputId": "04dcf954-4b0e-4518-e754-72c245607cd3",
        "colab": {
          "base_uri": "https://localhost:8080/"
        }
      },
      "execution_count": 39,
      "outputs": [
        {
          "output_type": "stream",
          "name": "stdout",
          "text": [
            "CPU utilizada: 14.899999999999999%\n"
          ]
        }
      ]
    },
    {
      "cell_type": "markdown",
      "source": [
        "## Ranking con datos de testeo"
      ],
      "metadata": {
        "id": "Izbre88GVQeN"
      }
    },
    {
      "cell_type": "code",
      "source": [
        "import json\n",
        "\n",
        "test = json.load(open(os.path.join(\"ranking_template_fill.json\")))"
      ],
      "metadata": {
        "id": "5Qp36_JfVFxk"
      },
      "execution_count": null,
      "outputs": []
    },
    {
      "cell_type": "code",
      "source": [
        "for user in test.keys():\n",
        "    user_id = int(user)\n",
        "    ranking = get_top_n_recommendations(fm, user_id)\n",
        "    ranking = [int(item) for item in ranking]\n",
        "    test[user] = ranking"
      ],
      "metadata": {
        "id": "fP9JV1B2Vrxz"
      },
      "execution_count": null,
      "outputs": []
    },
    {
      "cell_type": "code",
      "source": [
        "with open(os.path.join(\"fm_ranking.json\"), \"w\") as file:\n",
        "    json.dump(test, file, indent=4)"
      ],
      "metadata": {
        "id": "pqxqPquXV1e5"
      },
      "execution_count": null,
      "outputs": []
    },
    {
      "cell_type": "code",
      "source": [],
      "metadata": {
        "id": "qwrL5K8oWOzR"
      },
      "execution_count": null,
      "outputs": []
    }
  ],
  "metadata": {
    "kernelspec": {
      "display_name": "Python 3",
      "name": "python3"
    },
    "language_info": {
      "codemirror_mode": {
        "name": "ipython",
        "version": 3
      },
      "file_extension": ".py",
      "mimetype": "text/x-python",
      "name": "python",
      "nbconvert_exporter": "python",
      "pygments_lexer": "ipython3",
      "version": "3.10.12"
    },
    "colab": {
      "provenance": [],
      "gpuType": "T4"
    },
    "accelerator": "GPU"
  },
  "nbformat": 4,
  "nbformat_minor": 0
}