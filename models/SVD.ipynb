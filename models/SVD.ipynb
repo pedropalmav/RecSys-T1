{
 "cells": [
  {
   "cell_type": "markdown",
   "metadata": {
    "id": "NC-ceGb8LRLT"
   },
   "source": [
    "\n",
    "\n",
    "# **Predicción con SVD++**\n"
   ]
  },
  {
   "cell_type": "markdown",
   "metadata": {
    "id": "2j02H66f87eV"
   },
   "source": [
    "# Índice"
   ]
  },
  {
   "cell_type": "markdown",
   "metadata": {
    "colab_type": "toc",
    "id": "Ig9HHqbC84j5"
   },
   "source": [
    ">[Índice](#scrollTo=2j02H66f87eV)\n",
    "\n",
    ">[Descargando la información](#scrollTo=9qKTQ2V5VKSX)\n",
    "\n",
    ">[Preparar entorno](#scrollTo=P3K5VPZoGSYX)\n",
    "\n",
    ">[UserKNN](#scrollTo=2e0ZeZXzMhU3)\n",
    "\n",
    ">>[Generar una lista de recomendaciones para un usuario](#scrollTo=dIVXNsQ8CCJV)\n",
    "\n",
    ">>>[Evaluar en base a error de prediccion (RMSE y MAE)](#scrollTo=g55SDLmqCpUo)\n",
    "\n"
   ]
  },
  {
   "cell_type": "markdown",
   "metadata": {
    "id": "9qKTQ2V5VKSX"
   },
   "source": [
    "# Descargando la información\n"
   ]
  },
  {
   "cell_type": "code",
   "execution_count": 11,
   "metadata": {
    "colab": {
     "base_uri": "https://localhost:8080/",
     "height": 206
    },
    "id": "10N9GHcw5AeV",
    "outputId": "a1450278-45cb-436a-d805-0a41d232832a"
   },
   "outputs": [
    {
     "data": {
      "text/html": [
       "<div>\n",
       "<style scoped>\n",
       "    .dataframe tbody tr th:only-of-type {\n",
       "        vertical-align: middle;\n",
       "    }\n",
       "\n",
       "    .dataframe tbody tr th {\n",
       "        vertical-align: top;\n",
       "    }\n",
       "\n",
       "    .dataframe thead th {\n",
       "        text-align: right;\n",
       "    }\n",
       "</style>\n",
       "<table border=\"1\" class=\"dataframe\">\n",
       "  <thead>\n",
       "    <tr style=\"text-align: right;\">\n",
       "      <th></th>\n",
       "      <th>userID</th>\n",
       "      <th>itemID</th>\n",
       "      <th>rating</th>\n",
       "    </tr>\n",
       "  </thead>\n",
       "  <tbody>\n",
       "    <tr>\n",
       "      <th>0</th>\n",
       "      <td>401</td>\n",
       "      <td>32780</td>\n",
       "      <td>3.0</td>\n",
       "    </tr>\n",
       "    <tr>\n",
       "      <th>1</th>\n",
       "      <td>7548</td>\n",
       "      <td>21688</td>\n",
       "      <td>3.5</td>\n",
       "    </tr>\n",
       "    <tr>\n",
       "      <th>2</th>\n",
       "      <td>7663</td>\n",
       "      <td>1521</td>\n",
       "      <td>4.0</td>\n",
       "    </tr>\n",
       "    <tr>\n",
       "      <th>3</th>\n",
       "      <td>1357</td>\n",
       "      <td>3824</td>\n",
       "      <td>3.5</td>\n",
       "    </tr>\n",
       "    <tr>\n",
       "      <th>4</th>\n",
       "      <td>1361</td>\n",
       "      <td>727</td>\n",
       "      <td>4.5</td>\n",
       "    </tr>\n",
       "  </tbody>\n",
       "</table>\n",
       "</div>"
      ],
      "text/plain": [
       "   userID  itemID  rating\n",
       "0     401   32780     3.0\n",
       "1    7548   21688     3.5\n",
       "2    7663    1521     4.0\n",
       "3    1357    3824     3.5\n",
       "4    1361     727     4.5"
      ]
     },
     "execution_count": 11,
     "metadata": {},
     "output_type": "execute_result"
    }
   ],
   "source": [
    "import pandas as pd\n",
    "\n",
    "train_file = pd.read_csv('../data/training_set.csv', sep=',', header=0)\n",
    "train_file = train_file[['userID', 'itemID', 'rating']]\n",
    "train_file.head()"
   ]
  },
  {
   "cell_type": "code",
   "execution_count": 12,
   "metadata": {
    "colab": {
     "base_uri": "https://localhost:8080/",
     "height": 206
    },
    "id": "Z0v37gl2XkRI",
    "outputId": "199806a4-e595-48e2-a254-3502719a62d8"
   },
   "outputs": [
    {
     "data": {
      "text/html": [
       "<div>\n",
       "<style scoped>\n",
       "    .dataframe tbody tr th:only-of-type {\n",
       "        vertical-align: middle;\n",
       "    }\n",
       "\n",
       "    .dataframe tbody tr th {\n",
       "        vertical-align: top;\n",
       "    }\n",
       "\n",
       "    .dataframe thead th {\n",
       "        text-align: right;\n",
       "    }\n",
       "</style>\n",
       "<table border=\"1\" class=\"dataframe\">\n",
       "  <thead>\n",
       "    <tr style=\"text-align: right;\">\n",
       "      <th></th>\n",
       "      <th>userID</th>\n",
       "      <th>itemID</th>\n",
       "      <th>rating</th>\n",
       "    </tr>\n",
       "  </thead>\n",
       "  <tbody>\n",
       "    <tr>\n",
       "      <th>0</th>\n",
       "      <td>1040</td>\n",
       "      <td>4920</td>\n",
       "      <td>4.0</td>\n",
       "    </tr>\n",
       "    <tr>\n",
       "      <th>1</th>\n",
       "      <td>1306</td>\n",
       "      <td>7348</td>\n",
       "      <td>4.0</td>\n",
       "    </tr>\n",
       "    <tr>\n",
       "      <th>2</th>\n",
       "      <td>932</td>\n",
       "      <td>4073</td>\n",
       "      <td>4.0</td>\n",
       "    </tr>\n",
       "    <tr>\n",
       "      <th>3</th>\n",
       "      <td>6735</td>\n",
       "      <td>16074</td>\n",
       "      <td>4.5</td>\n",
       "    </tr>\n",
       "    <tr>\n",
       "      <th>4</th>\n",
       "      <td>197</td>\n",
       "      <td>39299</td>\n",
       "      <td>4.0</td>\n",
       "    </tr>\n",
       "  </tbody>\n",
       "</table>\n",
       "</div>"
      ],
      "text/plain": [
       "   userID  itemID  rating\n",
       "0    1040    4920     4.0\n",
       "1    1306    7348     4.0\n",
       "2     932    4073     4.0\n",
       "3    6735   16074     4.5\n",
       "4     197   39299     4.0"
      ]
     },
     "execution_count": 12,
     "metadata": {},
     "output_type": "execute_result"
    }
   ],
   "source": [
    "validation_file = pd.read_csv('../data/validation_set.csv', sep=',', header=0)\n",
    "validation_file = validation_file[['userID', 'itemID', 'rating']]\n",
    "validation_file.head()"
   ]
  },
  {
   "cell_type": "markdown",
   "metadata": {
    "id": "P3K5VPZoGSYX"
   },
   "source": [
    "## Preparando entorno"
   ]
  },
  {
   "cell_type": "code",
   "execution_count": 1,
   "metadata": {
    "colab": {
     "base_uri": "https://localhost:8080/"
    },
    "id": "nbtrMHvG6uIt",
    "outputId": "fc770e8a-fbcf-419d-c93c-3f96f8f8116e"
   },
   "outputs": [
    {
     "name": "stdout",
     "output_type": "stream",
     "text": [
      "Defaulting to user installation because normal site-packages is not writeable\n",
      "Collecting scikit-surprise\n",
      "  Downloading scikit_surprise-1.1.4.tar.gz (154 kB)\n",
      "\u001b[2K     \u001b[90m━━━━━━━━━━━━━━━━━━━━━━━━━━━━━━━━━━━━━━━\u001b[0m \u001b[32m154.4/154.4 kB\u001b[0m \u001b[31m3.4 MB/s\u001b[0m eta \u001b[36m0:00:00\u001b[0m00:01\u001b[0m\n",
      "\u001b[?25h  Installing build dependencies ... \u001b[?25ldone\n",
      "\u001b[?25h  Getting requirements to build wheel ... \u001b[?25ldone\n",
      "\u001b[?25h  Preparing metadata (pyproject.toml) ... \u001b[?25ldone\n",
      "\u001b[?25hRequirement already satisfied: joblib>=1.2.0 in /home/conflictuada_ale/.local/lib/python3.10/site-packages (from scikit-surprise) (1.4.2)\n",
      "Requirement already satisfied: numpy>=1.19.5 in /home/conflictuada_ale/.local/lib/python3.10/site-packages (from scikit-surprise) (1.26.4)\n",
      "Requirement already satisfied: scipy>=1.6.0 in /home/conflictuada_ale/.local/lib/python3.10/site-packages (from scikit-surprise) (1.13.1)\n",
      "Building wheels for collected packages: scikit-surprise\n",
      "  Building wheel for scikit-surprise (pyproject.toml) ... \u001b[?25ldone\n",
      "\u001b[?25h  Created wheel for scikit-surprise: filename=scikit_surprise-1.1.4-cp310-cp310-linux_x86_64.whl size=2812213 sha256=e53047c4d66c8e2da56d83b40f4e314b9286fef1318d1e5028aca67f3452589f\n",
      "  Stored in directory: /home/conflictuada_ale/.cache/pip/wheels/4b/3f/df/6acbf0a40397d9bf3ff97f582cc22fb9ce66adde75bc71fd54\n",
      "Successfully built scikit-surprise\n",
      "Installing collected packages: scikit-surprise\n",
      "Successfully installed scikit-surprise-1.1.4\n",
      "\n",
      "\u001b[1m[\u001b[0m\u001b[34;49mnotice\u001b[0m\u001b[1;39;49m]\u001b[0m\u001b[39;49m A new release of pip is available: \u001b[0m\u001b[31;49m23.2.1\u001b[0m\u001b[39;49m -> \u001b[0m\u001b[32;49m24.2\u001b[0m\n",
      "\u001b[1m[\u001b[0m\u001b[34;49mnotice\u001b[0m\u001b[1;39;49m]\u001b[0m\u001b[39;49m To update, run: \u001b[0m\u001b[32;49mpython3.10 -m pip install --upgrade pip\u001b[0m\n",
      "Note: you may need to restart the kernel to use updated packages.\n"
     ]
    }
   ],
   "source": [
    "pip install scikit-surprise"
   ]
  },
  {
   "cell_type": "code",
   "execution_count": 64,
   "metadata": {
    "id": "nv7g1e_i6wBY"
   },
   "outputs": [],
   "source": [
    "import surprise\n",
    "import numpy as np\n",
    "import os\n",
    "import pandas as pd\n",
    "from surprise import SVD\n",
    "from surprise import accuracy\n",
    "from surprise.model_selection import cross_validate\n",
    "from collections import defaultdict\n",
    "import seaborn as sns\n",
    "import matplotlib.pyplot as plt"
   ]
  },
  {
   "cell_type": "markdown",
   "metadata": {
    "id": "2e0ZeZXzMhU3"
   },
   "source": [
    "## SVD ++\n"
   ]
  },
  {
   "cell_type": "code",
   "execution_count": 31,
   "metadata": {
    "id": "ONuL2UkwaqPH"
   },
   "outputs": [],
   "source": [
    "from surprise.model_selection import PredefinedKFold\n",
    "reader = surprise.Reader(line_format='user item rating', sep=',', rating_scale=(1,5))\n",
    "train_data = surprise.Dataset.load_from_df(train_file[['userID', 'itemID', 'rating']], reader)\n",
    "testset = list(zip(validation_file['userID'], validation_file['itemID'], validation_file['rating']))\n"
   ]
  },
  {
   "cell_type": "code",
   "execution_count": 29,
   "metadata": {},
   "outputs": [],
   "source": [
    "from surprise import SVDpp\n",
    "trainset = train_data.build_full_trainset()"
   ]
  },
  {
   "cell_type": "code",
   "execution_count": 30,
   "metadata": {},
   "outputs": [
    {
     "data": {
      "text/plain": [
       "<surprise.prediction_algorithms.matrix_factorization.SVDpp at 0x7f7718520c10>"
      ]
     },
     "execution_count": 30,
     "metadata": {},
     "output_type": "execute_result"
    }
   ],
   "source": [
    "# Definicion de objeto svd++\n",
    "algorithm = SVDpp()\n",
    "# Entrenamiento del modelo\n",
    "algorithm.fit(trainset)"
   ]
  },
  {
   "cell_type": "code",
   "execution_count": 33,
   "metadata": {},
   "outputs": [],
   "source": [
    "# Hacer predicciones sobre el conjunto de validación\n",
    "predictions = algorithm.test(testset)"
   ]
  },
  {
   "cell_type": "code",
   "execution_count": 35,
   "metadata": {},
   "outputs": [
    {
     "name": "stdout",
     "output_type": "stream",
     "text": [
      "RMSE: 0.5910\n",
      "MAE:  0.4419\n"
     ]
    },
    {
     "data": {
      "text/plain": [
       "0.4419464730670412"
      ]
     },
     "execution_count": 35,
     "metadata": {},
     "output_type": "execute_result"
    }
   ],
   "source": [
    "accuracy.rmse(predictions)\n",
    "accuracy.mae(predictions)"
   ]
  },
  {
   "cell_type": "markdown",
   "metadata": {
    "id": "dIVXNsQ8CCJV"
   },
   "source": [
    "## Análisis de sensibilidad "
   ]
  },
  {
   "cell_type": "markdown",
   "metadata": {},
   "source": [
    "## Rating"
   ]
  },
  {
   "cell_type": "code",
   "execution_count": 36,
   "metadata": {},
   "outputs": [
    {
     "data": {
      "text/html": [
       "<div>\n",
       "<style scoped>\n",
       "    .dataframe tbody tr th:only-of-type {\n",
       "        vertical-align: middle;\n",
       "    }\n",
       "\n",
       "    .dataframe tbody tr th {\n",
       "        vertical-align: top;\n",
       "    }\n",
       "\n",
       "    .dataframe thead th {\n",
       "        text-align: right;\n",
       "    }\n",
       "</style>\n",
       "<table border=\"1\" class=\"dataframe\">\n",
       "  <thead>\n",
       "    <tr style=\"text-align: right;\">\n",
       "      <th></th>\n",
       "      <th>itemID</th>\n",
       "      <th>styleID</th>\n",
       "      <th>Rating</th>\n",
       "      <th>userID</th>\n",
       "    </tr>\n",
       "  </thead>\n",
       "  <tbody>\n",
       "    <tr>\n",
       "      <th>0</th>\n",
       "      <td>39289</td>\n",
       "      <td>14756</td>\n",
       "      <td>NaN</td>\n",
       "      <td>715</td>\n",
       "    </tr>\n",
       "    <tr>\n",
       "      <th>1</th>\n",
       "      <td>3939</td>\n",
       "      <td>1417</td>\n",
       "      <td>NaN</td>\n",
       "      <td>4944</td>\n",
       "    </tr>\n",
       "    <tr>\n",
       "      <th>2</th>\n",
       "      <td>47695</td>\n",
       "      <td>14879</td>\n",
       "      <td>NaN</td>\n",
       "      <td>4890</td>\n",
       "    </tr>\n",
       "    <tr>\n",
       "      <th>3</th>\n",
       "      <td>7348</td>\n",
       "      <td>1199</td>\n",
       "      <td>NaN</td>\n",
       "      <td>5324</td>\n",
       "    </tr>\n",
       "    <tr>\n",
       "      <th>4</th>\n",
       "      <td>37403</td>\n",
       "      <td>1199</td>\n",
       "      <td>NaN</td>\n",
       "      <td>5544</td>\n",
       "    </tr>\n",
       "  </tbody>\n",
       "</table>\n",
       "</div>"
      ],
      "text/plain": [
       "   itemID  styleID  Rating  userID\n",
       "0   39289    14756     NaN     715\n",
       "1    3939     1417     NaN    4944\n",
       "2   47695    14879     NaN    4890\n",
       "3    7348     1199     NaN    5324\n",
       "4   37403     1199     NaN    5544"
      ]
     },
     "execution_count": 36,
     "metadata": {},
     "output_type": "execute_result"
    }
   ],
   "source": [
    "rating_test = pd.read_csv('../templates/rating_template_fill.csv', sep=';', header=0)\n",
    "rating_test.head()"
   ]
  },
  {
   "cell_type": "code",
   "execution_count": 47,
   "metadata": {},
   "outputs": [],
   "source": [
    "# Función para obtener el promedio de ratings de un usuario en caso de que el item no esté en training\n",
    "def user_average_rating(user_id, train_ratings):\n",
    "    user_ratings = train_ratings[train_ratings['userID'] == user_id]['rating']\n",
    "    if len(user_ratings) > 0:\n",
    "        return user_ratings.mean()\n",
    "    else:\n",
    "        return train_ratings['rating'].mean()\n",
    "\n",
    "# Lista de ítems en training\n",
    "training_items = train_file['itemID'].unique()"
   ]
  },
  {
   "cell_type": "code",
   "execution_count": 61,
   "metadata": {},
   "outputs": [],
   "source": [
    "for index, row in rating_test.iterrows(): \n",
    "    user_id = str(int(row.iloc[3]))\n",
    "    item_id = str(int(row.iloc[0]))\n",
    "    \n",
    "    if int(item_id) not in training_items:\n",
    "      rating = user_average_rating(user_id, train_file)\n",
    "    else:\n",
    "        prediccion = algorithm.predict(user_id, item_id)\n",
    "        rating = prediccion.est\n",
    "    rating_test.at[index, 'Rating'] = rating\n"
   ]
  },
  {
   "cell_type": "code",
   "execution_count": 62,
   "metadata": {},
   "outputs": [
    {
     "data": {
      "text/html": [
       "<div>\n",
       "<style scoped>\n",
       "    .dataframe tbody tr th:only-of-type {\n",
       "        vertical-align: middle;\n",
       "    }\n",
       "\n",
       "    .dataframe tbody tr th {\n",
       "        vertical-align: top;\n",
       "    }\n",
       "\n",
       "    .dataframe thead th {\n",
       "        text-align: right;\n",
       "    }\n",
       "</style>\n",
       "<table border=\"1\" class=\"dataframe\">\n",
       "  <thead>\n",
       "    <tr style=\"text-align: right;\">\n",
       "      <th></th>\n",
       "      <th>itemID</th>\n",
       "      <th>styleID</th>\n",
       "      <th>Rating</th>\n",
       "      <th>userID</th>\n",
       "    </tr>\n",
       "  </thead>\n",
       "  <tbody>\n",
       "    <tr>\n",
       "      <th>0</th>\n",
       "      <td>39289</td>\n",
       "      <td>14756</td>\n",
       "      <td>3.868971</td>\n",
       "      <td>715</td>\n",
       "    </tr>\n",
       "    <tr>\n",
       "      <th>1</th>\n",
       "      <td>3939</td>\n",
       "      <td>1417</td>\n",
       "      <td>3.868971</td>\n",
       "      <td>4944</td>\n",
       "    </tr>\n",
       "    <tr>\n",
       "      <th>2</th>\n",
       "      <td>47695</td>\n",
       "      <td>14879</td>\n",
       "      <td>3.868971</td>\n",
       "      <td>4890</td>\n",
       "    </tr>\n",
       "    <tr>\n",
       "      <th>3</th>\n",
       "      <td>7348</td>\n",
       "      <td>1199</td>\n",
       "      <td>3.868971</td>\n",
       "      <td>5324</td>\n",
       "    </tr>\n",
       "    <tr>\n",
       "      <th>4</th>\n",
       "      <td>37403</td>\n",
       "      <td>1199</td>\n",
       "      <td>3.868971</td>\n",
       "      <td>5544</td>\n",
       "    </tr>\n",
       "  </tbody>\n",
       "</table>\n",
       "</div>"
      ],
      "text/plain": [
       "   itemID  styleID    Rating  userID\n",
       "0   39289    14756  3.868971     715\n",
       "1    3939     1417  3.868971    4944\n",
       "2   47695    14879  3.868971    4890\n",
       "3    7348     1199  3.868971    5324\n",
       "4   37403     1199  3.868971    5544"
      ]
     },
     "execution_count": 62,
     "metadata": {},
     "output_type": "execute_result"
    }
   ],
   "source": [
    "rating_test.head()"
   ]
  },
  {
   "cell_type": "code",
   "execution_count": 65,
   "metadata": {},
   "outputs": [],
   "source": [
    "ruta = os.path.join('../predictions', 'rating_svd.csv')\n",
    "rating_test.to_csv(ruta, index=False)"
   ]
  },
  {
   "cell_type": "markdown",
   "metadata": {},
   "source": [
    "## Ranking"
   ]
  },
  {
   "cell_type": "code",
   "execution_count": 66,
   "metadata": {},
   "outputs": [],
   "source": [
    "import json\n",
    "\n",
    "ranking_test = json.load(open('../templates/ranking_template_fill.json'))"
   ]
  },
  {
   "cell_type": "code",
   "execution_count": 68,
   "metadata": {},
   "outputs": [],
   "source": [
    "#Función para obtener las recomendaciones por cada usuario obtenida del práctico Surprise_FunSVD y modificada para SVD++\n",
    "def get_top_n(predictions, n=10):\n",
    "    \"\"\"Devuelve las N-mejores recomendaciones para cada usuario de un set de predicción.\n",
    "\n",
    "    Args:\n",
    "        predictions(lista de objetos Prediction): La lista de predicción obtenida del método test.\n",
    "        n(int): El número de recomendaciónes por usuario\n",
    "\n",
    "    Returns:\n",
    "    Un diccionario donde las llaves son ids de usuario y los valores son listas de tuplas:\n",
    "        [(item id, rating estimation), ...] de tamaño n.\n",
    "    \"\"\"\n",
    "\n",
    "    # First map the predictions to each user.\n",
    "    top_n = defaultdict(list)\n",
    "    for uid, iid, true_r, est, _ in predictions:\n",
    "        top_n[uid].append((iid, est))\n",
    "\n",
    "    # Then sort the predictions for each user and retrieve the k highest ones.\n",
    "    for uid, user_ratings in top_n.items():\n",
    "        user_ratings.sort(key=lambda x: x[1], reverse=True)\n",
    "        top_n[uid] = user_ratings[:n]\n",
    "\n",
    "    return top_n"
   ]
  },
  {
   "cell_type": "code",
   "execution_count": 70,
   "metadata": {},
   "outputs": [
    {
     "name": "stdout",
     "output_type": "stream",
     "text": [
      "Recommendation for user 3728: []\n"
     ]
    }
   ],
   "source": [
    "#COMPLETAR\n",
    "top_n = get_top_n(predictions, n=10)\n",
    "print('Recommendation for user {}: {}'.format(user_id, top_n[\"2\"]))\n"
   ]
  },
  {
   "cell_type": "code",
   "execution_count": null,
   "metadata": {},
   "outputs": [],
   "source": [
    "ruta = os.path.join('../predictions', 'ranking_iknn.json')\n",
    "rating_test.to_json(ruta, index=False)"
   ]
  }
 ],
 "metadata": {
  "colab": {
   "provenance": []
  },
  "kernelspec": {
   "display_name": "Python 3 (ipykernel)",
   "language": "python",
   "name": "python3"
  },
  "language_info": {
   "codemirror_mode": {
    "name": "ipython",
    "version": 3
   },
   "file_extension": ".py",
   "mimetype": "text/x-python",
   "name": "python",
   "nbconvert_exporter": "python",
   "pygments_lexer": "ipython3",
   "version": "3.10.10"
  },
  "varInspector": {
   "cols": {
    "lenName": 16,
    "lenType": 16,
    "lenVar": 40
   },
   "kernels_config": {
    "python": {
     "delete_cmd_postfix": "",
     "delete_cmd_prefix": "del ",
     "library": "var_list.py",
     "varRefreshCmd": "print(var_dic_list())"
    },
    "r": {
     "delete_cmd_postfix": ") ",
     "delete_cmd_prefix": "rm(",
     "library": "var_list.r",
     "varRefreshCmd": "cat(var_dic_list()) "
    }
   },
   "types_to_exclude": [
    "module",
    "function",
    "builtin_function_or_method",
    "instance",
    "_Feature"
   ],
   "window_display": false
  }
 },
 "nbformat": 4,
 "nbformat_minor": 4
}
