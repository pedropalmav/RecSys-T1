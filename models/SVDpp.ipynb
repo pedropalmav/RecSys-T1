{
 "cells": [
  {
   "cell_type": "markdown",
   "metadata": {
    "id": "NC-ceGb8LRLT"
   },
   "source": [
    "\n",
    "\n",
    "# **Predicción con SVD++**\n"
   ]
  },
  {
   "cell_type": "markdown",
   "metadata": {
    "id": "2j02H66f87eV"
   },
   "source": [
    "# Índice"
   ]
  },
  {
   "cell_type": "markdown",
   "metadata": {
    "colab_type": "toc",
    "id": "Ig9HHqbC84j5"
   },
   "source": [
    ">[Índice](#scrollTo=2j02H66f87eV)\n",
    "\n",
    ">[Descargando la información](#scrollTo=9qKTQ2V5VKSX)\n",
    "\n",
    ">[Preparar entorno](#scrollTo=P3K5VPZoGSYX)\n",
    "\n",
    ">[UserKNN](#scrollTo=2e0ZeZXzMhU3)\n",
    "\n",
    ">>[Generar una lista de recomendaciones para un usuario](#scrollTo=dIVXNsQ8CCJV)\n",
    "\n",
    ">>>[Evaluar en base a error de prediccion (RMSE y MAE)](#scrollTo=g55SDLmqCpUo)\n",
    "\n"
   ]
  },
  {
   "cell_type": "markdown",
   "metadata": {
    "id": "9qKTQ2V5VKSX"
   },
   "source": [
    "# Descargando la información\n"
   ]
  },
  {
   "cell_type": "code",
   "execution_count": 1,
   "metadata": {
    "colab": {
     "base_uri": "https://localhost:8080/",
     "height": 206
    },
    "id": "10N9GHcw5AeV",
    "outputId": "a1450278-45cb-436a-d805-0a41d232832a"
   },
   "outputs": [
    {
     "data": {
      "text/html": [
       "<div>\n",
       "<style scoped>\n",
       "    .dataframe tbody tr th:only-of-type {\n",
       "        vertical-align: middle;\n",
       "    }\n",
       "\n",
       "    .dataframe tbody tr th {\n",
       "        vertical-align: top;\n",
       "    }\n",
       "\n",
       "    .dataframe thead th {\n",
       "        text-align: right;\n",
       "    }\n",
       "</style>\n",
       "<table border=\"1\" class=\"dataframe\">\n",
       "  <thead>\n",
       "    <tr style=\"text-align: right;\">\n",
       "      <th></th>\n",
       "      <th>userID</th>\n",
       "      <th>itemID</th>\n",
       "      <th>rating</th>\n",
       "    </tr>\n",
       "  </thead>\n",
       "  <tbody>\n",
       "    <tr>\n",
       "      <th>0</th>\n",
       "      <td>401</td>\n",
       "      <td>32780</td>\n",
       "      <td>3.0</td>\n",
       "    </tr>\n",
       "    <tr>\n",
       "      <th>1</th>\n",
       "      <td>7548</td>\n",
       "      <td>21688</td>\n",
       "      <td>3.5</td>\n",
       "    </tr>\n",
       "    <tr>\n",
       "      <th>2</th>\n",
       "      <td>7663</td>\n",
       "      <td>1521</td>\n",
       "      <td>4.0</td>\n",
       "    </tr>\n",
       "    <tr>\n",
       "      <th>3</th>\n",
       "      <td>1357</td>\n",
       "      <td>3824</td>\n",
       "      <td>3.5</td>\n",
       "    </tr>\n",
       "    <tr>\n",
       "      <th>4</th>\n",
       "      <td>1361</td>\n",
       "      <td>727</td>\n",
       "      <td>4.5</td>\n",
       "    </tr>\n",
       "  </tbody>\n",
       "</table>\n",
       "</div>"
      ],
      "text/plain": [
       "   userID  itemID  rating\n",
       "0     401   32780     3.0\n",
       "1    7548   21688     3.5\n",
       "2    7663    1521     4.0\n",
       "3    1357    3824     3.5\n",
       "4    1361     727     4.5"
      ]
     },
     "execution_count": 1,
     "metadata": {},
     "output_type": "execute_result"
    }
   ],
   "source": [
    "import pandas as pd\n",
    "\n",
    "train_file = pd.read_csv('../data/training_set.csv', sep=',', header=0)\n",
    "train_file = train_file[['userID', 'itemID', 'rating']]\n",
    "train_file.head()"
   ]
  },
  {
   "cell_type": "code",
   "execution_count": 2,
   "metadata": {
    "colab": {
     "base_uri": "https://localhost:8080/",
     "height": 206
    },
    "id": "Z0v37gl2XkRI",
    "outputId": "199806a4-e595-48e2-a254-3502719a62d8"
   },
   "outputs": [
    {
     "data": {
      "text/html": [
       "<div>\n",
       "<style scoped>\n",
       "    .dataframe tbody tr th:only-of-type {\n",
       "        vertical-align: middle;\n",
       "    }\n",
       "\n",
       "    .dataframe tbody tr th {\n",
       "        vertical-align: top;\n",
       "    }\n",
       "\n",
       "    .dataframe thead th {\n",
       "        text-align: right;\n",
       "    }\n",
       "</style>\n",
       "<table border=\"1\" class=\"dataframe\">\n",
       "  <thead>\n",
       "    <tr style=\"text-align: right;\">\n",
       "      <th></th>\n",
       "      <th>userID</th>\n",
       "      <th>itemID</th>\n",
       "      <th>rating</th>\n",
       "    </tr>\n",
       "  </thead>\n",
       "  <tbody>\n",
       "    <tr>\n",
       "      <th>0</th>\n",
       "      <td>1040</td>\n",
       "      <td>4920</td>\n",
       "      <td>4.0</td>\n",
       "    </tr>\n",
       "    <tr>\n",
       "      <th>1</th>\n",
       "      <td>1306</td>\n",
       "      <td>7348</td>\n",
       "      <td>4.0</td>\n",
       "    </tr>\n",
       "    <tr>\n",
       "      <th>2</th>\n",
       "      <td>932</td>\n",
       "      <td>4073</td>\n",
       "      <td>4.0</td>\n",
       "    </tr>\n",
       "    <tr>\n",
       "      <th>3</th>\n",
       "      <td>6735</td>\n",
       "      <td>16074</td>\n",
       "      <td>4.5</td>\n",
       "    </tr>\n",
       "    <tr>\n",
       "      <th>4</th>\n",
       "      <td>197</td>\n",
       "      <td>39299</td>\n",
       "      <td>4.0</td>\n",
       "    </tr>\n",
       "  </tbody>\n",
       "</table>\n",
       "</div>"
      ],
      "text/plain": [
       "   userID  itemID  rating\n",
       "0    1040    4920     4.0\n",
       "1    1306    7348     4.0\n",
       "2     932    4073     4.0\n",
       "3    6735   16074     4.5\n",
       "4     197   39299     4.0"
      ]
     },
     "execution_count": 2,
     "metadata": {},
     "output_type": "execute_result"
    }
   ],
   "source": [
    "validation_file = pd.read_csv('../data/validation_set.csv', sep=',', header=0)\n",
    "validation_file = validation_file[['userID', 'itemID', 'rating']]\n",
    "validation_file.head()"
   ]
  },
  {
   "cell_type": "markdown",
   "metadata": {
    "id": "P3K5VPZoGSYX"
   },
   "source": [
    "## Preparando entorno"
   ]
  },
  {
   "cell_type": "code",
   "execution_count": 3,
   "metadata": {
    "colab": {
     "base_uri": "https://localhost:8080/"
    },
    "id": "nbtrMHvG6uIt",
    "outputId": "fc770e8a-fbcf-419d-c93c-3f96f8f8116e"
   },
   "outputs": [
    {
     "name": "stdout",
     "output_type": "stream",
     "text": [
      "Defaulting to user installation because normal site-packages is not writeable\n",
      "Requirement already satisfied: scikit-surprise in /home/conflictuada_ale/.local/lib/python3.10/site-packages (1.1.4)\n",
      "Requirement already satisfied: joblib>=1.2.0 in /home/conflictuada_ale/.local/lib/python3.10/site-packages (from scikit-surprise) (1.4.2)\n",
      "Requirement already satisfied: numpy>=1.19.5 in /home/conflictuada_ale/.local/lib/python3.10/site-packages (from scikit-surprise) (1.26.4)\n",
      "Requirement already satisfied: scipy>=1.6.0 in /home/conflictuada_ale/.local/lib/python3.10/site-packages (from scikit-surprise) (1.13.1)\n",
      "\n",
      "\u001b[1m[\u001b[0m\u001b[34;49mnotice\u001b[0m\u001b[1;39;49m]\u001b[0m\u001b[39;49m A new release of pip is available: \u001b[0m\u001b[31;49m23.2.1\u001b[0m\u001b[39;49m -> \u001b[0m\u001b[32;49m24.2\u001b[0m\n",
      "\u001b[1m[\u001b[0m\u001b[34;49mnotice\u001b[0m\u001b[1;39;49m]\u001b[0m\u001b[39;49m To update, run: \u001b[0m\u001b[32;49mpython3.10 -m pip install --upgrade pip\u001b[0m\n",
      "Note: you may need to restart the kernel to use updated packages.\n"
     ]
    }
   ],
   "source": [
    "pip install scikit-surprise"
   ]
  },
  {
   "cell_type": "code",
   "execution_count": 11,
   "metadata": {
    "id": "nv7g1e_i6wBY"
   },
   "outputs": [],
   "source": [
    "import surprise\n",
    "import numpy as np\n",
    "import os\n",
    "import psutil\n",
    "import pandas as pd\n",
    "import scipy.sparse as sparse\n",
    "from surprise import SVD\n",
    "from surprise import accuracy\n",
    "from surprise.model_selection import cross_validate\n",
    "from collections import defaultdict\n",
    "import seaborn as sns\n",
    "import time\n",
    "import matplotlib.pyplot as plt"
   ]
  },
  {
   "cell_type": "markdown",
   "metadata": {
    "id": "2e0ZeZXzMhU3"
   },
   "source": [
    "## SVD ++\n"
   ]
  },
  {
   "cell_type": "code",
   "execution_count": 5,
   "metadata": {},
   "outputs": [],
   "source": [
    "user_items = {}\n",
    "itemset = set()\n",
    "\n",
    "for row in train_file.itertuples():\n",
    "    if row[1] not in user_items:\n",
    "        user_items[row[1]] = []\n",
    "\n",
    "    user_items[row[1]].append(row[2])\n",
    "    itemset.add(row[2])\n",
    "\n",
    "# Recordar que se tiene set con los itemID ordenados de los items\n",
    "itemset = np.sort(list(itemset))\n",
    "\n",
    "sparse_matrix = np.zeros((len(user_items), len(itemset)))\n",
    "\n",
    "for i, items in enumerate(user_items.values()):\n",
    "    sparse_matrix[i] = np.isin(itemset, items, assume_unique=True).astype(int)\n",
    "\n",
    "matrix = sparse.csr_matrix(sparse_matrix.T)\n",
    "\n",
    "user_ids = {key: i for i, key in enumerate(user_items.keys())}\n",
    "user_item_matrix = matrix.T.tocsr()"
   ]
  },
  {
   "cell_type": "code",
   "execution_count": 6,
   "metadata": {
    "id": "ONuL2UkwaqPH"
   },
   "outputs": [],
   "source": [
    "from surprise.model_selection import PredefinedKFold\n",
    "reader = surprise.Reader(line_format='user item rating', sep=',', rating_scale=(1,5))\n",
    "train_data = surprise.Dataset.load_from_df(train_file[['userID', 'itemID', 'rating']], reader)\n",
    "testset = list(zip(validation_file['userID'], validation_file['itemID'], validation_file['rating']))\n"
   ]
  },
  {
   "cell_type": "code",
   "execution_count": 7,
   "metadata": {},
   "outputs": [],
   "source": [
    "from surprise import SVDpp\n",
    "trainset = train_data.build_full_trainset()"
   ]
  },
  {
   "cell_type": "code",
   "execution_count": 8,
   "metadata": {},
   "outputs": [
    {
     "data": {
      "text/plain": [
       "<surprise.prediction_algorithms.matrix_factorization.SVDpp at 0x7fbd1bf39090>"
      ]
     },
     "execution_count": 8,
     "metadata": {},
     "output_type": "execute_result"
    }
   ],
   "source": [
    "# Definicion de objeto svd++\n",
    "algorithm = SVDpp()\n",
    "# Entrenamiento del modelo\n",
    "algorithm.fit(trainset)"
   ]
  },
  {
   "cell_type": "code",
   "execution_count": 9,
   "metadata": {},
   "outputs": [],
   "source": [
    "# Hacer predicciones sobre el conjunto de validación\n",
    "predictions = algorithm.test(testset)"
   ]
  },
  {
   "cell_type": "code",
   "execution_count": 10,
   "metadata": {},
   "outputs": [
    {
     "name": "stdout",
     "output_type": "stream",
     "text": [
      "RMSE: 0.5919\n",
      "MAE:  0.4434\n"
     ]
    },
    {
     "data": {
      "text/plain": [
       "0.4434358738677646"
      ]
     },
     "execution_count": 10,
     "metadata": {},
     "output_type": "execute_result"
    }
   ],
   "source": [
    "accuracy.rmse(predictions)\n",
    "accuracy.mae(predictions)"
   ]
  },
  {
   "cell_type": "markdown",
   "metadata": {
    "id": "dIVXNsQ8CCJV"
   },
   "source": [
    "## Análisis de sensibilidad "
   ]
  },
  {
   "cell_type": "markdown",
   "metadata": {},
   "source": [
    "## Métricas de desempeño"
   ]
  },
  {
   "cell_type": "code",
   "execution_count": 21,
   "metadata": {},
   "outputs": [
    {
     "name": "stdout",
     "output_type": "stream",
     "text": [
      "MAE:  0.4463\n",
      "RMSE: 0.5960\n",
      "MAE:  0.4506\n",
      "RMSE: 0.6015\n",
      "MAE:  0.4530\n",
      "RMSE: 0.6023\n",
      "MAE:  0.4568\n",
      "RMSE: 0.6073\n",
      "MAE:  0.4586\n",
      "RMSE: 0.6097\n",
      "MAE:  0.4631\n",
      "RMSE: 0.6157\n",
      "MAE:  0.4645\n",
      "RMSE: 0.6169\n",
      "MAE:  0.4687\n",
      "RMSE: 0.6216\n",
      "MAE:  0.4645\n",
      "RMSE: 0.6163\n",
      "MAE:  0.4705\n",
      "RMSE: 0.6259\n",
      "MAE:  0.4682\n",
      "RMSE: 0.6261\n",
      "[0.446317848740298, 0.4506133026183296, 0.45297276526231595, 0.4567766411200459, 0.4586205257581713, 0.46307120377600397, 0.46445569748406773, 0.46866918913188715, 0.46453599238612897, 0.4705130053464148, 0.46821231376694006]\n",
      "[0.5960437588508487, 0.6014654200669605, 0.6022770735559267, 0.6073011754499881, 0.6097162534237517, 0.615655981605155, 0.6168648699178249, 0.621614202337608, 0.6163013522626075, 0.6259377238143274, 0.6260779726797854]\n"
     ]
    }
   ],
   "source": [
    "factor_values = [50, 100, 150, 200, 250, 300, 350, 400, 450, 500, 550]\n",
    "mae_values = [] \n",
    "rmse_values = []\n",
    "\n",
    "for f in factor_values:\n",
    "  algorithm = SVDpp(n_factors=f)\n",
    "  algorithm.fit(trainset)\n",
    "  predictions = algorithm.test(testset)\n",
    "  mae = accuracy.mae(predictions)\n",
    "  rmse = accuracy.rmse(predictions)\n",
    "  \n",
    "  mae_values.append(mae)\n",
    "  rmse_values.append(rmse)\n",
    "\n",
    "print(mae_values)\n",
    "print(rmse_values)"
   ]
  },
  {
   "cell_type": "code",
   "execution_count": 72,
   "metadata": {},
   "outputs": [
    {
     "data": {
      "image/png": "[encoded data removed]",
      "text/plain": [
       "<Figure size 640x480 with 1 Axes>"
      ]
     },
     "metadata": {},
     "output_type": "display_data"
    }
   ],
   "source": [
    "plt.plot(factor_values, mae_values, 'r-')\n",
    "plt.show()"
   ]
  },
  {
   "cell_type": "code",
   "execution_count": 73,
   "metadata": {},
   "outputs": [
    {
     "data": {
      "image/png": "[encoded data removed]",
      "text/plain": [
       "<Figure size 640x480 with 1 Axes>"
      ]
     },
     "metadata": {},
     "output_type": "display_data"
    }
   ],
   "source": [
    "plt.plot(factor_values, rmse_values, 'bo-')\n",
    "plt.show()"
   ]
  },
  {
   "cell_type": "code",
   "execution_count": 8,
   "metadata": {
    "scrolled": true
   },
   "outputs": [
    {
     "name": "stdout",
     "output_type": "stream",
     "text": [
      "RMSE: 0.6010\n",
      "RMSE: 0.6514\n",
      "RMSE: 0.6524\n",
      "RMSE: 0.6536\n",
      "RMSE: 0.6513\n",
      "RMSE: 0.5940\n",
      "RMSE: 0.6323\n",
      "RMSE: 0.6387\n",
      "RMSE: 0.6345\n",
      "RMSE: 0.6307\n",
      "RMSE: 0.5931\n",
      "RMSE: 0.6204\n",
      "RMSE: 0.6283\n",
      "RMSE: 0.6335\n",
      "RMSE: 0.6254\n",
      "RMSE: 0.5932\n",
      "RMSE: 0.6159\n",
      "RMSE: 0.6252\n",
      "RMSE: 0.6259\n",
      "RMSE: 0.6229\n",
      "RMSE: 0.5919\n",
      "RMSE: 0.6122\n",
      "RMSE: 0.6155\n",
      "RMSE: 0.6204\n",
      "RMSE: 0.6177\n",
      "RMSE: 0.6096\n",
      "RMSE: 0.6376\n",
      "RMSE: 0.6356\n",
      "RMSE: 0.6324\n",
      "RMSE: 0.6289\n",
      "RMSE: 0.5997\n",
      "RMSE: 0.6323\n",
      "RMSE: 0.6254\n",
      "RMSE: 0.6198\n",
      "RMSE: 0.6149\n",
      "RMSE: 0.6003\n",
      "RMSE: 0.6208\n",
      "RMSE: 0.6173\n",
      "RMSE: 0.6125\n",
      "RMSE: 0.6115\n",
      "RMSE: 0.5995\n",
      "RMSE: 0.6117\n",
      "RMSE: 0.6110\n",
      "RMSE: 0.6094\n",
      "RMSE: 0.6111\n",
      "RMSE: 0.5974\n",
      "RMSE: 0.6097\n",
      "RMSE: 0.6098\n",
      "RMSE: 0.6093\n",
      "RMSE: 0.6097\n",
      "RMSE: 0.6160\n",
      "RMSE: 0.6342\n",
      "RMSE: 0.6341\n",
      "RMSE: 0.6252\n",
      "RMSE: 0.6253\n",
      "RMSE: 0.6100\n",
      "RMSE: 0.6259\n",
      "RMSE: 0.6231\n",
      "RMSE: 0.6164\n",
      "RMSE: 0.6165\n",
      "RMSE: 0.6048\n",
      "RMSE: 0.6147\n",
      "RMSE: 0.6141\n",
      "RMSE: 0.6116\n",
      "RMSE: 0.6081\n",
      "RMSE: 0.5997\n",
      "RMSE: 0.6141\n",
      "RMSE: 0.6090\n",
      "RMSE: 0.6052\n",
      "RMSE: 0.6066\n",
      "RMSE: 0.5999\n",
      "RMSE: 0.6052\n",
      "RMSE: 0.6061\n",
      "RMSE: 0.6061\n",
      "RMSE: 0.6061\n",
      "RMSE: 0.6249\n",
      "RMSE: 0.6380\n",
      "RMSE: 0.6277\n",
      "RMSE: 0.6234\n",
      "RMSE: 0.6246\n",
      "RMSE: 0.6174\n",
      "RMSE: 0.6256\n",
      "RMSE: 0.6212\n",
      "RMSE: 0.6130\n",
      "RMSE: 0.6115\n",
      "RMSE: 0.6081\n",
      "RMSE: 0.6161\n",
      "RMSE: 0.6113\n",
      "RMSE: 0.6062\n",
      "RMSE: 0.6074\n",
      "RMSE: 0.6056\n",
      "RMSE: 0.6119\n",
      "RMSE: 0.6096\n",
      "RMSE: 0.6069\n",
      "RMSE: 0.6036\n",
      "RMSE: 0.6053\n",
      "RMSE: 0.6090\n",
      "RMSE: 0.6087\n",
      "RMSE: 0.6045\n",
      "RMSE: 0.6045\n",
      "RMSE: 0.6350\n",
      "RMSE: 0.6400\n",
      "RMSE: 0.6336\n",
      "RMSE: 0.6282\n",
      "RMSE: 0.6224\n",
      "RMSE: 0.6175\n",
      "RMSE: 0.6236\n",
      "RMSE: 0.6147\n",
      "RMSE: 0.6163\n",
      "RMSE: 0.6127\n",
      "RMSE: 0.6142\n",
      "RMSE: 0.6166\n",
      "RMSE: 0.6130\n",
      "RMSE: 0.6092\n",
      "RMSE: 0.6086\n",
      "RMSE: 0.6104\n",
      "RMSE: 0.6091\n",
      "RMSE: 0.6087\n",
      "RMSE: 0.6079\n",
      "RMSE: 0.6044\n",
      "RMSE: 0.6065\n"
     ]
    },
    {
     "ename": "KeyboardInterrupt",
     "evalue": "",
     "output_type": "error",
     "traceback": [
      "\u001b[0;31m---------------------------------------------------------------------------\u001b[0m",
      "\u001b[0;31mKeyboardInterrupt\u001b[0m                         Traceback (most recent call last)",
      "Cell \u001b[0;32mIn[8], line 15\u001b[0m\n\u001b[1;32m     13\u001b[0m \u001b[38;5;28;01mfor\u001b[39;00m lr \u001b[38;5;129;01min\u001b[39;00m learning_rates:\n\u001b[1;32m     14\u001b[0m     algorithm \u001b[38;5;241m=\u001b[39m SVDpp(n_factors\u001b[38;5;241m=\u001b[39mfact, n_epochs\u001b[38;5;241m=\u001b[39m\u001b[38;5;241m100\u001b[39m, lr_all\u001b[38;5;241m=\u001b[39mlr, reg_all\u001b[38;5;241m=\u001b[39mreg)\n\u001b[0;32m---> 15\u001b[0m     \u001b[43malgorithm\u001b[49m\u001b[38;5;241;43m.\u001b[39;49m\u001b[43mfit\u001b[49m\u001b[43m(\u001b[49m\u001b[43mtrainset\u001b[49m\u001b[43m)\u001b[49m\n\u001b[1;32m     16\u001b[0m     predictions \u001b[38;5;241m=\u001b[39m algorithm\u001b[38;5;241m.\u001b[39mtest(testset)\n\u001b[1;32m     17\u001b[0m     rmse \u001b[38;5;241m=\u001b[39m accuracy\u001b[38;5;241m.\u001b[39mrmse(predictions)\n",
      "File \u001b[0;32m~/.local/lib/python3.10/site-packages/surprise/prediction_algorithms/matrix_factorization.pyx:400\u001b[0m, in \u001b[0;36msurprise.prediction_algorithms.matrix_factorization.SVDpp.fit\u001b[0;34m()\u001b[0m\n",
      "File \u001b[0;32m~/.local/lib/python3.10/site-packages/surprise/prediction_algorithms/matrix_factorization.pyx:464\u001b[0m, in \u001b[0;36msurprise.prediction_algorithms.matrix_factorization.SVDpp.sgd\u001b[0;34m()\u001b[0m\n",
      "File \u001b[0;32m~/.local/lib/python3.10/site-packages/surprise/trainset.py:194\u001b[0m, in \u001b[0;36mTrainset.all_ratings\u001b[0;34m(self)\u001b[0m\n\u001b[1;32m    192\u001b[0m \u001b[38;5;28;01mfor\u001b[39;00m u, u_ratings \u001b[38;5;129;01min\u001b[39;00m \u001b[38;5;28mself\u001b[39m\u001b[38;5;241m.\u001b[39mur\u001b[38;5;241m.\u001b[39mitems():\n\u001b[1;32m    193\u001b[0m     \u001b[38;5;28;01mfor\u001b[39;00m i, r \u001b[38;5;129;01min\u001b[39;00m u_ratings:\n\u001b[0;32m--> 194\u001b[0m         \u001b[38;5;28;01myield\u001b[39;00m u, i, r\n",
      "\u001b[0;31mKeyboardInterrupt\u001b[0m: "
     ]
    }
   ],
   "source": [
    "learning_rates = [0.001, 0.004, 0.007, 0.01, 0.013]\n",
    "regularizations = [0.005, 0.01, 0.015, 0.02, 0.025]\n",
    "factor_values = [50, 100, 150, 200, 250]\n",
    "maxiter_values = [100, 150, 200, 250, 300] \n",
    "lr_res = []\n",
    "lamb_res = []\n",
    "factor_res = []\n",
    "rmse_res = []\n",
    "maxiter_res = []\n",
    "\n",
    "for fact in factor_values:\n",
    "  for reg in regularizations:\n",
    "    for lr in learning_rates:\n",
    "        algorithm = SVDpp(n_factors=fact, n_epochs=100, lr_all=lr, reg_all=reg)\n",
    "        algorithm.fit(trainset)\n",
    "        predictions = algorithm.test(testset)\n",
    "        rmse = accuracy.rmse(predictions)\n",
    "        \n",
    "        lr_res.append(lr)\n",
    "        lamb_res.append(reg)\n",
    "        factor_res.append(fact)\n",
    "        rmse_res.append(rmse)\n",
    "        #maxiter_res.append(maxiter)"
   ]
  },
  {
   "cell_type": "code",
   "execution_count": 9,
   "metadata": {},
   "outputs": [
    {
     "name": "stdout",
     "output_type": "stream",
     "text": [
      "Mejor combinación de hiperparámetros:\n",
      "{'Learning Rate': 0.001, 'Regularization': 0.025, 'Factors': 50, 'RMSE': 0.5919121315683699}\n"
     ]
    }
   ],
   "source": [
    "# Encontrar el índice del menor RMSE\n",
    "min_rmse_index = rmse_res.index(min(rmse_res))\n",
    "\n",
    "best_combination = {\n",
    "    'Learning Rate': lr_res[min_rmse_index],\n",
    "    'Regularization': lamb_res[min_rmse_index],\n",
    "    'Factors': factor_res[min_rmse_index],\n",
    "    'RMSE': rmse_res[min_rmse_index]\n",
    "}\n",
    "\n",
    "print(\"Mejor combinación de hiperparámetros:\")\n",
    "print(best_combination)"
   ]
  },
  {
   "cell_type": "code",
   "execution_count": 14,
   "metadata": {},
   "outputs": [
    {
     "name": "stdout",
     "output_type": "stream",
     "text": [
      "Tiempo de entrenamiento: 1.3296141624450684 segundos\n",
      "Memoria utilizada: 0.0 MB\n",
      "Uso de CPU: 6.700000000000001%\n"
     ]
    }
   ],
   "source": [
    "start_time = time.time()\n",
    "mem_info_before = psutil.virtual_memory().used\n",
    "cpu_usage_before = psutil.cpu_percent(interval=None)\n",
    "\n",
    "# Definicion de objeto svd++\n",
    "algorithm = SVDpp()\n",
    "# Entrenamiento del modelo\n",
    "algorithm.fit(trainset)\n",
    "\n",
    "end_time = time.time()\n",
    "mem_info_after = psutil.virtual_memory().used\n",
    "memory_used = (mem_info_after - mem_info_before) / (1024 ** 2)\n",
    "cpu_usage_after = psutil.cpu_percent(interval=None)\n",
    "\n",
    "print(f\"Tiempo de entrenamiento: {end_time - start_time} segundos\")\n",
    "print(f\"Memoria utilizada: {memory_used} MB\")\n",
    "print(f\"Uso de CPU: {cpu_usage_after - cpu_usage_before}%\")"
   ]
  },
  {
   "cell_type": "markdown",
   "metadata": {},
   "source": [
    "## Rating"
   ]
  },
  {
   "cell_type": "code",
   "execution_count": 36,
   "metadata": {},
   "outputs": [
    {
     "data": {
      "text/html": [
       "<div>\n",
       "<style scoped>\n",
       "    .dataframe tbody tr th:only-of-type {\n",
       "        vertical-align: middle;\n",
       "    }\n",
       "\n",
       "    .dataframe tbody tr th {\n",
       "        vertical-align: top;\n",
       "    }\n",
       "\n",
       "    .dataframe thead th {\n",
       "        text-align: right;\n",
       "    }\n",
       "</style>\n",
       "<table border=\"1\" class=\"dataframe\">\n",
       "  <thead>\n",
       "    <tr style=\"text-align: right;\">\n",
       "      <th></th>\n",
       "      <th>itemID</th>\n",
       "      <th>styleID</th>\n",
       "      <th>Rating</th>\n",
       "      <th>userID</th>\n",
       "    </tr>\n",
       "  </thead>\n",
       "  <tbody>\n",
       "    <tr>\n",
       "      <th>0</th>\n",
       "      <td>39289</td>\n",
       "      <td>14756</td>\n",
       "      <td>NaN</td>\n",
       "      <td>715</td>\n",
       "    </tr>\n",
       "    <tr>\n",
       "      <th>1</th>\n",
       "      <td>3939</td>\n",
       "      <td>1417</td>\n",
       "      <td>NaN</td>\n",
       "      <td>4944</td>\n",
       "    </tr>\n",
       "    <tr>\n",
       "      <th>2</th>\n",
       "      <td>47695</td>\n",
       "      <td>14879</td>\n",
       "      <td>NaN</td>\n",
       "      <td>4890</td>\n",
       "    </tr>\n",
       "    <tr>\n",
       "      <th>3</th>\n",
       "      <td>7348</td>\n",
       "      <td>1199</td>\n",
       "      <td>NaN</td>\n",
       "      <td>5324</td>\n",
       "    </tr>\n",
       "    <tr>\n",
       "      <th>4</th>\n",
       "      <td>37403</td>\n",
       "      <td>1199</td>\n",
       "      <td>NaN</td>\n",
       "      <td>5544</td>\n",
       "    </tr>\n",
       "  </tbody>\n",
       "</table>\n",
       "</div>"
      ],
      "text/plain": [
       "   itemID  styleID  Rating  userID\n",
       "0   39289    14756     NaN     715\n",
       "1    3939     1417     NaN    4944\n",
       "2   47695    14879     NaN    4890\n",
       "3    7348     1199     NaN    5324\n",
       "4   37403     1199     NaN    5544"
      ]
     },
     "execution_count": 36,
     "metadata": {},
     "output_type": "execute_result"
    }
   ],
   "source": [
    "rating_test = pd.read_csv('../templates/rating_template_fill.csv', sep=';', header=0)\n",
    "rating_test.head()"
   ]
  },
  {
   "cell_type": "code",
   "execution_count": 47,
   "metadata": {},
   "outputs": [],
   "source": [
    "# Función para obtener el promedio de ratings de un usuario en caso de que el item no esté en training\n",
    "def user_average_rating(user_id, train_ratings):\n",
    "    user_ratings = train_ratings[train_ratings['userID'] == user_id]['rating']\n",
    "    if len(user_ratings) > 0:\n",
    "        return round(user_ratings.mean(),4)\n",
    "    else:\n",
    "        return round(train_ratings['rating'].mean(),4)\n",
    "\n",
    "# Lista de ítems en training\n",
    "training_items = train_file['itemID'].unique()"
   ]
  },
  {
   "cell_type": "code",
   "execution_count": 61,
   "metadata": {},
   "outputs": [],
   "source": [
    "for index, row in rating_test.iterrows(): \n",
    "    user_id = str(int(row.iloc[3]))\n",
    "    item_id = str(int(row.iloc[0]))\n",
    "    \n",
    "    if int(item_id) not in training_items:\n",
    "      rating = user_average_rating(user_id, train_file)\n",
    "    else:\n",
    "        prediccion = algorithm.predict(user_id, item_id)\n",
    "        rating = prediccion.est\n",
    "    rating_test.at[index, 'Rating'] = rating\n"
   ]
  },
  {
   "cell_type": "code",
   "execution_count": 62,
   "metadata": {},
   "outputs": [
    {
     "data": {
      "text/html": [
       "<div>\n",
       "<style scoped>\n",
       "    .dataframe tbody tr th:only-of-type {\n",
       "        vertical-align: middle;\n",
       "    }\n",
       "\n",
       "    .dataframe tbody tr th {\n",
       "        vertical-align: top;\n",
       "    }\n",
       "\n",
       "    .dataframe thead th {\n",
       "        text-align: right;\n",
       "    }\n",
       "</style>\n",
       "<table border=\"1\" class=\"dataframe\">\n",
       "  <thead>\n",
       "    <tr style=\"text-align: right;\">\n",
       "      <th></th>\n",
       "      <th>itemID</th>\n",
       "      <th>styleID</th>\n",
       "      <th>Rating</th>\n",
       "      <th>userID</th>\n",
       "    </tr>\n",
       "  </thead>\n",
       "  <tbody>\n",
       "    <tr>\n",
       "      <th>0</th>\n",
       "      <td>39289</td>\n",
       "      <td>14756</td>\n",
       "      <td>3.868971</td>\n",
       "      <td>715</td>\n",
       "    </tr>\n",
       "    <tr>\n",
       "      <th>1</th>\n",
       "      <td>3939</td>\n",
       "      <td>1417</td>\n",
       "      <td>3.868971</td>\n",
       "      <td>4944</td>\n",
       "    </tr>\n",
       "    <tr>\n",
       "      <th>2</th>\n",
       "      <td>47695</td>\n",
       "      <td>14879</td>\n",
       "      <td>3.868971</td>\n",
       "      <td>4890</td>\n",
       "    </tr>\n",
       "    <tr>\n",
       "      <th>3</th>\n",
       "      <td>7348</td>\n",
       "      <td>1199</td>\n",
       "      <td>3.868971</td>\n",
       "      <td>5324</td>\n",
       "    </tr>\n",
       "    <tr>\n",
       "      <th>4</th>\n",
       "      <td>37403</td>\n",
       "      <td>1199</td>\n",
       "      <td>3.868971</td>\n",
       "      <td>5544</td>\n",
       "    </tr>\n",
       "  </tbody>\n",
       "</table>\n",
       "</div>"
      ],
      "text/plain": [
       "   itemID  styleID    Rating  userID\n",
       "0   39289    14756  3.868971     715\n",
       "1    3939     1417  3.868971    4944\n",
       "2   47695    14879  3.868971    4890\n",
       "3    7348     1199  3.868971    5324\n",
       "4   37403     1199  3.868971    5544"
      ]
     },
     "execution_count": 62,
     "metadata": {},
     "output_type": "execute_result"
    }
   ],
   "source": [
    "rating_test.head()"
   ]
  },
  {
   "cell_type": "code",
   "execution_count": 65,
   "metadata": {},
   "outputs": [],
   "source": [
    "ruta = os.path.join('../predictions', 'rating_svd.csv')\n",
    "rating_test.to_csv(ruta, index=False)"
   ]
  }
 ],
 "metadata": {
  "colab": {
   "provenance": []
  },
  "kernelspec": {
   "display_name": "Python 3 (ipykernel)",
   "language": "python",
   "name": "python3"
  },
  "language_info": {
   "codemirror_mode": {
    "name": "ipython",
    "version": 3
   },
   "file_extension": ".py",
   "mimetype": "text/x-python",
   "name": "python",
   "nbconvert_exporter": "python",
   "pygments_lexer": "ipython3",
   "version": "3.10.10"
  },
  "varInspector": {
   "cols": {
    "lenName": 16,
    "lenType": 16,
    "lenVar": 40
   },
   "kernels_config": {
    "python": {
     "delete_cmd_postfix": "",
     "delete_cmd_prefix": "del ",
     "library": "var_list.py",
     "varRefreshCmd": "print(var_dic_list())"
    },
    "r": {
     "delete_cmd_postfix": ") ",
     "delete_cmd_prefix": "rm(",
     "library": "var_list.r",
     "varRefreshCmd": "cat(var_dic_list()) "
    }
   },
   "types_to_exclude": [
    "module",
    "function",
    "builtin_function_or_method",
    "instance",
    "_Feature"
   ],
   "window_display": false
  }
 },
 "nbformat": 4,
 "nbformat_minor": 4
}
