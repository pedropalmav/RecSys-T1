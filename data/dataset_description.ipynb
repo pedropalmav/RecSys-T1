{
 "cells": [
  {
   "cell_type": "markdown",
   "metadata": {},
   "source": [
    "# Dataset Description"
   ]
  },
  {
   "cell_type": "markdown",
   "metadata": {},
   "source": [
    "# Index"
   ]
  },
  {
   "cell_type": "markdown",
   "metadata": {},
   "source": [
    "## Training Set Analysis"
   ]
  },
  {
   "cell_type": "code",
   "execution_count": 41,
   "metadata": {},
   "outputs": [
    {
     "data": {
      "text/html": [
       "<div>\n",
       "<style scoped>\n",
       "    .dataframe tbody tr th:only-of-type {\n",
       "        vertical-align: middle;\n",
       "    }\n",
       "\n",
       "    .dataframe tbody tr th {\n",
       "        vertical-align: top;\n",
       "    }\n",
       "\n",
       "    .dataframe thead th {\n",
       "        text-align: right;\n",
       "    }\n",
       "</style>\n",
       "<table border=\"1\" class=\"dataframe\">\n",
       "  <thead>\n",
       "    <tr style=\"text-align: right;\">\n",
       "      <th></th>\n",
       "      <th>userID</th>\n",
       "      <th>itemID</th>\n",
       "      <th>styleID</th>\n",
       "      <th>rating</th>\n",
       "    </tr>\n",
       "  </thead>\n",
       "  <tbody>\n",
       "    <tr>\n",
       "      <th>0</th>\n",
       "      <td>401</td>\n",
       "      <td>32780</td>\n",
       "      <td>12224</td>\n",
       "      <td>3.0</td>\n",
       "    </tr>\n",
       "    <tr>\n",
       "      <th>1</th>\n",
       "      <td>7548</td>\n",
       "      <td>21688</td>\n",
       "      <td>9020</td>\n",
       "      <td>3.5</td>\n",
       "    </tr>\n",
       "    <tr>\n",
       "      <th>2</th>\n",
       "      <td>7663</td>\n",
       "      <td>1521</td>\n",
       "      <td>568</td>\n",
       "      <td>4.0</td>\n",
       "    </tr>\n",
       "    <tr>\n",
       "      <th>3</th>\n",
       "      <td>1357</td>\n",
       "      <td>3824</td>\n",
       "      <td>1417</td>\n",
       "      <td>3.5</td>\n",
       "    </tr>\n",
       "    <tr>\n",
       "      <th>4</th>\n",
       "      <td>1361</td>\n",
       "      <td>727</td>\n",
       "      <td>263</td>\n",
       "      <td>4.5</td>\n",
       "    </tr>\n",
       "  </tbody>\n",
       "</table>\n",
       "</div>"
      ],
      "text/plain": [
       "   userID  itemID  styleID  rating\n",
       "0     401   32780    12224     3.0\n",
       "1    7548   21688     9020     3.5\n",
       "2    7663    1521      568     4.0\n",
       "3    1357    3824     1417     3.5\n",
       "4    1361     727      263     4.5"
      ]
     },
     "execution_count": 41,
     "metadata": {},
     "output_type": "execute_result"
    }
   ],
   "source": [
    "import pandas as pd\n",
    "\n",
    "data_training = pd.read_csv('training_set.csv', sep=',', header=0)\n",
    "\n",
    "data_training.head()"
   ]
  },
  {
   "cell_type": "code",
   "execution_count": 42,
   "metadata": {},
   "outputs": [
    {
     "data": {
      "text/html": [
       "<div>\n",
       "<style scoped>\n",
       "    .dataframe tbody tr th:only-of-type {\n",
       "        vertical-align: middle;\n",
       "    }\n",
       "\n",
       "    .dataframe tbody tr th {\n",
       "        vertical-align: top;\n",
       "    }\n",
       "\n",
       "    .dataframe thead th {\n",
       "        text-align: right;\n",
       "    }\n",
       "</style>\n",
       "<table border=\"1\" class=\"dataframe\">\n",
       "  <thead>\n",
       "    <tr style=\"text-align: right;\">\n",
       "      <th></th>\n",
       "      <th>userID</th>\n",
       "      <th>itemID</th>\n",
       "      <th>styleID</th>\n",
       "      <th>rating</th>\n",
       "    </tr>\n",
       "  </thead>\n",
       "  <tbody>\n",
       "    <tr>\n",
       "      <th>count</th>\n",
       "      <td>35534.000000</td>\n",
       "      <td>35534.000000</td>\n",
       "      <td>35534.000000</td>\n",
       "      <td>35534.000000</td>\n",
       "    </tr>\n",
       "    <tr>\n",
       "      <th>mean</th>\n",
       "      <td>3236.573423</td>\n",
       "      <td>21204.946333</td>\n",
       "      <td>2958.986914</td>\n",
       "      <td>3.868971</td>\n",
       "    </tr>\n",
       "    <tr>\n",
       "      <th>std</th>\n",
       "      <td>2400.841018</td>\n",
       "      <td>18522.293853</td>\n",
       "      <td>5012.455424</td>\n",
       "      <td>0.714726</td>\n",
       "    </tr>\n",
       "    <tr>\n",
       "      <th>min</th>\n",
       "      <td>1.000000</td>\n",
       "      <td>175.000000</td>\n",
       "      <td>1.000000</td>\n",
       "      <td>0.000000</td>\n",
       "    </tr>\n",
       "    <tr>\n",
       "      <th>25%</th>\n",
       "      <td>1147.000000</td>\n",
       "      <td>5441.000000</td>\n",
       "      <td>395.000000</td>\n",
       "      <td>3.500000</td>\n",
       "    </tr>\n",
       "    <tr>\n",
       "      <th>50%</th>\n",
       "      <td>2798.500000</td>\n",
       "      <td>17538.000000</td>\n",
       "      <td>1199.000000</td>\n",
       "      <td>4.000000</td>\n",
       "    </tr>\n",
       "    <tr>\n",
       "      <th>75%</th>\n",
       "      <td>5064.000000</td>\n",
       "      <td>34146.000000</td>\n",
       "      <td>1315.000000</td>\n",
       "      <td>4.500000</td>\n",
       "    </tr>\n",
       "    <tr>\n",
       "      <th>max</th>\n",
       "      <td>8320.000000</td>\n",
       "      <td>77207.000000</td>\n",
       "      <td>27797.000000</td>\n",
       "      <td>5.000000</td>\n",
       "    </tr>\n",
       "  </tbody>\n",
       "</table>\n",
       "</div>"
      ],
      "text/plain": [
       "             userID        itemID       styleID        rating\n",
       "count  35534.000000  35534.000000  35534.000000  35534.000000\n",
       "mean    3236.573423  21204.946333   2958.986914      3.868971\n",
       "std     2400.841018  18522.293853   5012.455424      0.714726\n",
       "min        1.000000    175.000000      1.000000      0.000000\n",
       "25%     1147.000000   5441.000000    395.000000      3.500000\n",
       "50%     2798.500000  17538.000000   1199.000000      4.000000\n",
       "75%     5064.000000  34146.000000   1315.000000      4.500000\n",
       "max     8320.000000  77207.000000  27797.000000      5.000000"
      ]
     },
     "execution_count": 42,
     "metadata": {},
     "output_type": "execute_result"
    }
   ],
   "source": [
    "data_training.describe()"
   ]
  },
  {
   "cell_type": "code",
   "execution_count": 43,
   "metadata": {},
   "outputs": [
    {
     "name": "stdout",
     "output_type": "stream",
     "text": [
      "<class 'pandas.core.frame.DataFrame'>\n",
      "RangeIndex: 35534 entries, 0 to 35533\n",
      "Data columns (total 4 columns):\n",
      " #   Column   Non-Null Count  Dtype  \n",
      "---  ------   --------------  -----  \n",
      " 0   userID   35534 non-null  int64  \n",
      " 1   itemID   35534 non-null  int64  \n",
      " 2   styleID  35534 non-null  int64  \n",
      " 3   rating   35534 non-null  float64\n",
      "dtypes: float64(1), int64(3)\n",
      "memory usage: 1.1 MB\n"
     ]
    }
   ],
   "source": [
    "data_training.info()"
   ]
  },
  {
   "cell_type": "code",
   "execution_count": 44,
   "metadata": {},
   "outputs": [
    {
     "name": "stdout",
     "output_type": "stream",
     "text": [
      "Rating: 4.0 Count: 12590\n",
      "Rating: 4.5 Count: 8070\n",
      "Rating: 3.5 Count: 6602\n",
      "Rating: 3.0 Count: 3303\n",
      "Rating: 5.0 Count: 2529\n",
      "Rating: 2.5 Count: 1176\n",
      "Rating: 2.0 Count: 813\n",
      "Rating: 1.5 Count: 258\n",
      "Rating: 1.0 Count: 191\n",
      "Rating: 0.0 Count: 2\n"
     ]
    }
   ],
   "source": [
    "count_train_file = data_training['rating'].value_counts()\n",
    "for i in count_train_file.index:\n",
    "    print('Rating:', i, 'Count:', count_train_file[i])"
   ]
  },
  {
   "cell_type": "code",
   "execution_count": 45,
   "metadata": {},
   "outputs": [
    {
     "name": "stdout",
     "output_type": "stream",
     "text": [
      "Max ratings by user: 144\n",
      "Min ratings by user: 1\n",
      "Average ratings per user: 4.270913461538462\n"
     ]
    }
   ],
   "source": [
    "ratings_per_user = data_training.groupby('userID')['rating'].count()\n",
    "max_ratings_by_user = ratings_per_user.max()\n",
    "min_ratings_by_user = ratings_per_user.min()\n",
    "average_ratings_per_user = ratings_per_user.mean()\n",
    "print('Max ratings by user:', max_ratings_by_user)\n",
    "print('Min ratings by user:', min_ratings_by_user)\n",
    "print('Average ratings per user:', average_ratings_per_user)"
   ]
  },
  {
   "cell_type": "code",
   "execution_count": 40,
   "metadata": {},
   "outputs": [
    {
     "data": {
      "image/png": "[encoded data removed]",
      "text/plain": [
       "<Figure size 600x400 with 1 Axes>"
      ]
     },
     "metadata": {},
     "output_type": "display_data"
    }
   ],
   "source": [
    "import matplotlib.pyplot as plt\n",
    "\n",
    "plt.figure(figsize=(6, 4))\n",
    "\n",
    "plt.hist(ratings_per_user.sort_index(), bins=15, color='blue', edgecolor='black')\n",
    "plt.title('Number of Ratings vs Number of Users')\n",
    "plt.xlabel('Number of Ratings')\n",
    "plt.ylabel('Number of Users')\n",
    "plt.show()"
   ]
  },
  {
   "cell_type": "code",
   "execution_count": 46,
   "metadata": {},
   "outputs": [
    {
     "name": "stdout",
     "output_type": "stream",
     "text": [
      "Max ratings by item: 1827\n",
      "Min ratings by item: 1\n",
      "Average ratings per item: 21.001182033096928\n"
     ]
    }
   ],
   "source": [
    "ratings_per_item = data_training.groupby('itemID')['rating'].count()\n",
    "max_ratings_by_item = ratings_per_item.max()\n",
    "min_ratings_by_item = ratings_per_item.min()\n",
    "average_ratings_per_item = ratings_per_item.mean()\n",
    "print('Max ratings by item:', max_ratings_by_item)\n",
    "print('Min ratings by item:', min_ratings_by_item)\n",
    "print('Average ratings per item:', average_ratings_per_item)\n"
   ]
  }
 ],
 "metadata": {
  "kernelspec": {
   "display_name": "Python 3",
   "language": "python",
   "name": "python3"
  },
  "language_info": {
   "codemirror_mode": {
    "name": "ipython",
    "version": 3
   },
   "file_extension": ".py",
   "mimetype": "text/x-python",
   "name": "python",
   "nbconvert_exporter": "python",
   "pygments_lexer": "ipython3",
   "version": "3.12.2"
  }
 },
 "nbformat": 4,
 "nbformat_minor": 2
}
